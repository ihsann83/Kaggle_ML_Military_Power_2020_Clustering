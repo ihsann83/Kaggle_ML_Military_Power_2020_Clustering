{
 "cells": [
  {
   "cell_type": "markdown",
   "metadata": {
    "id": "0DxNKOyW8AKE"
   },
   "source": [
    "# Military Power Clustering\n",
    "\n",
    "Source : globalfirepower.com on 1st may 2020"
   ]
  },
  {
   "cell_type": "code",
   "execution_count": 151,
   "metadata": {
    "execution": {
     "iopub.execute_input": "2021-10-19T22:46:35.800184Z",
     "iopub.status.busy": "2021-10-19T22:46:35.799865Z",
     "iopub.status.idle": "2021-10-19T22:46:35.809997Z",
     "shell.execute_reply": "2021-10-19T22:46:35.809054Z",
     "shell.execute_reply.started": "2021-10-19T22:46:35.800139Z"
    }
   },
   "outputs": [],
   "source": [
    "# This Python 3 environment comes with many helpful analytics libraries installed\n",
    "# It is defined by the kaggle/python Docker image: https://github.com/kaggle/docker-python\n",
    "# For example, here's several helpful packages to load\n",
    "\n",
    "import numpy as np # linear algebra\n",
    "import pandas as pd # data processing, CSV file I/O (e.g. pd.read_csv)\n",
    "\n",
    "# Input data files are available in the read-only \"../input/\" directory\n",
    "# For example, running this (by clicking run or pressing Shift+Enter) will list all files under the input directory\n",
    "\n",
    "import os\n",
    "for dirname, _, filenames in os.walk('/kaggle/input'):\n",
    "    for filename in filenames:\n",
    "        print(os.path.join(dirname, filename))\n",
    "\n",
    "# You can write up to 20GB to the current directory (/kaggle/working/) that gets preserved as output when you create a version using \"Save & Run All\" \n",
    "# You can also write temporary files to /kaggle/temp/, but they won't be saved outside of the current session"
   ]
  },
  {
   "cell_type": "markdown",
   "metadata": {
    "id": "pHcni9Yd8AKI"
   },
   "source": [
    "# Import Libraries"
   ]
  },
  {
   "cell_type": "code",
   "execution_count": 152,
   "metadata": {
    "execution": {
     "iopub.execute_input": "2021-10-19T22:46:35.813404Z",
     "iopub.status.busy": "2021-10-19T22:46:35.812384Z",
     "iopub.status.idle": "2021-10-19T22:46:35.839886Z",
     "shell.execute_reply": "2021-10-19T22:46:35.839225Z",
     "shell.execute_reply.started": "2021-10-19T22:46:35.813311Z"
    },
    "id": "t8CFBZr28AKJ"
   },
   "outputs": [],
   "source": [
    "import numpy as np\n",
    "import pandas as pd\n",
    "import matplotlib.pyplot as plt\n",
    "import seaborn as sns\n",
    "import plotly.express as px\n",
    "import scipy.stats as stats\n",
    "from sklearn.preprocessing import StandardScaler, PolynomialFeatures, OneHotEncoder, StandardScaler, PowerTransformer, MinMaxScaler, RobustScaler\n",
    "from sklearn.model_selection import KFold, cross_val_predict, train_test_split, GridSearchCV, cross_val_score, cross_validate\n",
    "from sklearn.linear_model import LinearRegression, Lasso, Ridge,ElasticNet\n",
    "from sklearn.metrics import plot_confusion_matrix, r2_score, mean_absolute_error, mean_squared_error, classification_report, confusion_matrix, accuracy_score, classification_report\n",
    "from sklearn.metrics import make_scorer, precision_score, precision_recall_curve, plot_precision_recall_curve, plot_roc_curve, roc_auc_score, roc_curve, f1_score, accuracy_score, recall_score\n",
    "from sklearn.pipeline import make_pipeline\n",
    "from sklearn.compose import make_column_transformer\n",
    "from sklearn.neighbors import KNeighborsRegressor\n",
    "from sklearn.svm import SVR\n",
    "from sklearn.ensemble import RandomForestRegressor, RandomForestClassifier, GradientBoostingRegressor, ExtraTreesRegressor, AdaBoostClassifier\n",
    "from sklearn.feature_selection import SelectKBest, SelectPercentile, f_classif, f_regression, mutual_info_regression\n",
    "from xgboost import XGBRegressor, XGBClassifier\n",
    "from xgboost import plot_importance\n",
    "from sklearn.pipeline import Pipeline\n",
    "from sklearn.tree import plot_tree\n",
    "from sklearn.impute import SimpleImputer, KNNImputer\n",
    "from sklearn.model_selection import StratifiedKFold\n",
    "from sklearn.linear_model import LogisticRegression\n",
    "from sklearn.tree import DecisionTreeClassifier\n",
    "from sklearn.neighbors import KNeighborsClassifier\n",
    "from sklearn.discriminant_analysis import LinearDiscriminantAnalysis\n",
    "from sklearn.naive_bayes import GaussianNB\n",
    "from sklearn.svm import SVC\n",
    "\n",
    "#importing plotly and cufflinks in offline mode\n",
    "import cufflinks as cf\n",
    "import plotly.offline\n",
    "cf.go_offline()\n",
    "cf.set_config_file(offline=False, world_readable=True)\n",
    "\n",
    "import warnings\n",
    "warnings.filterwarnings('ignore')\n",
    "warnings.warn(\"this will not show\")\n",
    "plt.rcParams[\"figure.figsize\"] = (10,6)\n",
    "pd.set_option('max_colwidth',200)\n",
    "\n",
    "# pd.set_option('display.max_rows', 100) # if you wish to see more rows rather than default, just uncomment this line.\n",
    "pd.set_option('display.max_columns', 200)\n",
    "pd.set_option('display.float_format', lambda x: '%.3f' % x)\n",
    "\n",
    "import colorama\n",
    "from colorama import Fore, Style  # maakes strings colored\n",
    "# !pip3 install termcolor\n",
    "from termcolor import colored"
   ]
  },
  {
   "cell_type": "markdown",
   "metadata": {},
   "source": [
    "# User Defined Function"
   ]
  },
  {
   "cell_type": "code",
   "execution_count": 153,
   "metadata": {
    "execution": {
     "iopub.execute_input": "2021-10-19T22:46:35.841375Z",
     "iopub.status.busy": "2021-10-19T22:46:35.841087Z",
     "iopub.status.idle": "2021-10-19T22:46:35.852954Z",
     "shell.execute_reply": "2021-10-19T22:46:35.851223Z",
     "shell.execute_reply.started": "2021-10-19T22:46:35.841343Z"
    }
   },
   "outputs": [],
   "source": [
    "# Function for determining the number and percentages of missing values\n",
    "\n",
    "def missing (df):\n",
    "    missing_number = df.isnull().sum().sort_values(ascending=False)\n",
    "    missing_percent = (df.isnull().sum()/df.isnull().count()).sort_values(ascending=False)\n",
    "    missing_values = pd.concat([missing_number, missing_percent], axis=1, keys=['Missing_Number', 'Missing_Percent'])\n",
    "    return missing_values"
   ]
  },
  {
   "cell_type": "code",
   "execution_count": 154,
   "metadata": {
    "execution": {
     "iopub.execute_input": "2021-10-19T22:46:35.855392Z",
     "iopub.status.busy": "2021-10-19T22:46:35.854589Z",
     "iopub.status.idle": "2021-10-19T22:46:35.866659Z",
     "shell.execute_reply": "2021-10-19T22:46:35.865574Z",
     "shell.execute_reply.started": "2021-10-19T22:46:35.855349Z"
    }
   },
   "outputs": [],
   "source": [
    "# To view summary information about the column\n",
    "\n",
    "def first_looking(col):\n",
    "    print(\"column name    : \", col)\n",
    "    print(\"--------------------------------\")\n",
    "    print(\"per_of_nulls   : \", \"%\", round(df[col].isnull().sum()/df.shape[0]*100, 2))\n",
    "    print(\"num_of_nulls   : \", df[col].isnull().sum())\n",
    "    print(\"num_of_uniques : \", df[col].nunique())\n",
    "    print(df[col].value_counts(dropna = False))"
   ]
  },
  {
   "cell_type": "markdown",
   "metadata": {
    "id": "LnUyXAAC8AKJ"
   },
   "source": [
    "# Ingest Data  "
   ]
  },
  {
   "cell_type": "code",
   "execution_count": 197,
   "metadata": {
    "execution": {
     "iopub.execute_input": "2021-10-19T22:47:19.112561Z",
     "iopub.status.busy": "2021-10-19T22:47:19.112116Z",
     "iopub.status.idle": "2021-10-19T22:47:19.128857Z",
     "shell.execute_reply": "2021-10-19T22:47:19.128223Z",
     "shell.execute_reply.started": "2021-10-19T22:47:19.112528Z"
    }
   },
   "outputs": [],
   "source": [
    "df0 = pd.read_csv(\"../input/world-military-power-2020/World military power.csv\", header=1)\n",
    "df = df0.copy()"
   ]
  },
  {
   "cell_type": "code",
   "execution_count": 198,
   "metadata": {
    "execution": {
     "iopub.execute_input": "2021-10-19T22:47:19.742427Z",
     "iopub.status.busy": "2021-10-19T22:47:19.742119Z",
     "iopub.status.idle": "2021-10-19T22:47:19.746187Z",
     "shell.execute_reply": "2021-10-19T22:47:19.745281Z",
     "shell.execute_reply.started": "2021-10-19T22:47:19.742397Z"
    },
    "id": "enCbGulB8AKK"
   },
   "outputs": [],
   "source": [
    "# df0 = pd.read_csv(\"World military power.csv\")\n",
    "# df = df0.copy()"
   ]
  },
  {
   "cell_type": "code",
   "execution_count": 199,
   "metadata": {
    "execution": {
     "iopub.execute_input": "2021-10-19T22:47:20.302526Z",
     "iopub.status.busy": "2021-10-19T22:47:20.302211Z",
     "iopub.status.idle": "2021-10-19T22:47:20.343920Z",
     "shell.execute_reply": "2021-10-19T22:47:20.342965Z",
     "shell.execute_reply.started": "2021-10-19T22:47:20.302492Z"
    }
   },
   "outputs": [],
   "source": [
    "df0.head(1)"
   ]
  },
  {
   "cell_type": "markdown",
   "metadata": {
    "id": "v7Eqi2K28AKK"
   },
   "source": [
    "# EDA"
   ]
  },
  {
   "cell_type": "markdown",
   "metadata": {
    "id": "EoAk59FU8AKL"
   },
   "source": [
    "## Implement basic steps to see how is your data looks like"
   ]
  },
  {
   "cell_type": "code",
   "execution_count": 200,
   "metadata": {
    "execution": {
     "iopub.execute_input": "2021-10-19T22:47:21.730334Z",
     "iopub.status.busy": "2021-10-19T22:47:21.730049Z",
     "iopub.status.idle": "2021-10-19T22:47:21.776557Z",
     "shell.execute_reply": "2021-10-19T22:47:21.775446Z",
     "shell.execute_reply.started": "2021-10-19T22:47:21.730305Z"
    },
    "id": "QxAbx-Y98AKK"
   },
   "outputs": [],
   "source": [
    "df.head(3)"
   ]
  },
  {
   "cell_type": "code",
   "execution_count": 201,
   "metadata": {
    "execution": {
     "iopub.execute_input": "2021-10-19T22:47:22.255597Z",
     "iopub.status.busy": "2021-10-19T22:47:22.255303Z",
     "iopub.status.idle": "2021-10-19T22:47:22.299519Z",
     "shell.execute_reply": "2021-10-19T22:47:22.298413Z",
     "shell.execute_reply.started": "2021-10-19T22:47:22.255563Z"
    }
   },
   "outputs": [],
   "source": [
    "df.tail(3)"
   ]
  },
  {
   "cell_type": "code",
   "execution_count": 202,
   "metadata": {
    "execution": {
     "iopub.execute_input": "2021-10-19T22:47:22.692706Z",
     "iopub.status.busy": "2021-10-19T22:47:22.692121Z",
     "iopub.status.idle": "2021-10-19T22:47:22.750742Z",
     "shell.execute_reply": "2021-10-19T22:47:22.749736Z",
     "shell.execute_reply.started": "2021-10-19T22:47:22.692655Z"
    }
   },
   "outputs": [],
   "source": [
    "df.sample(10)"
   ]
  },
  {
   "cell_type": "code",
   "execution_count": 203,
   "metadata": {
    "execution": {
     "iopub.execute_input": "2021-10-19T22:47:23.051838Z",
     "iopub.status.busy": "2021-10-19T22:47:23.051536Z",
     "iopub.status.idle": "2021-10-19T22:47:23.058750Z",
     "shell.execute_reply": "2021-10-19T22:47:23.057718Z",
     "shell.execute_reply.started": "2021-10-19T22:47:23.051802Z"
    },
    "scrolled": true
   },
   "outputs": [],
   "source": [
    "df.columns"
   ]
  },
  {
   "cell_type": "code",
   "execution_count": 204,
   "metadata": {
    "execution": {
     "iopub.execute_input": "2021-10-19T22:47:23.446614Z",
     "iopub.status.busy": "2021-10-19T22:47:23.446310Z",
     "iopub.status.idle": "2021-10-19T22:47:23.454357Z",
     "shell.execute_reply": "2021-10-19T22:47:23.453345Z",
     "shell.execute_reply.started": "2021-10-19T22:47:23.446583Z"
    }
   },
   "outputs": [],
   "source": [
    "df.columns = df.columns.str.lower().str.replace('&', '_').str.replace(' ', '_')"
   ]
  },
  {
   "cell_type": "code",
   "execution_count": 205,
   "metadata": {
    "execution": {
     "iopub.execute_input": "2021-10-19T22:47:23.886974Z",
     "iopub.status.busy": "2021-10-19T22:47:23.886693Z",
     "iopub.status.idle": "2021-10-19T22:47:23.893867Z",
     "shell.execute_reply": "2021-10-19T22:47:23.892843Z",
     "shell.execute_reply.started": "2021-10-19T22:47:23.886945Z"
    },
    "scrolled": true
   },
   "outputs": [],
   "source": [
    "df.columns"
   ]
  },
  {
   "cell_type": "code",
   "execution_count": 206,
   "metadata": {
    "execution": {
     "iopub.execute_input": "2021-10-19T22:47:24.381699Z",
     "iopub.status.busy": "2021-10-19T22:47:24.380920Z",
     "iopub.status.idle": "2021-10-19T22:47:24.388287Z",
     "shell.execute_reply": "2021-10-19T22:47:24.387097Z",
     "shell.execute_reply.started": "2021-10-19T22:47:24.381650Z"
    }
   },
   "outputs": [],
   "source": [
    "df.shape"
   ]
  },
  {
   "cell_type": "code",
   "execution_count": 207,
   "metadata": {
    "execution": {
     "iopub.execute_input": "2021-10-19T22:47:24.880631Z",
     "iopub.status.busy": "2021-10-19T22:47:24.880318Z",
     "iopub.status.idle": "2021-10-19T22:47:24.886408Z",
     "shell.execute_reply": "2021-10-19T22:47:24.885409Z",
     "shell.execute_reply.started": "2021-10-19T22:47:24.880596Z"
    }
   },
   "outputs": [],
   "source": [
    "print(\"There is\", df.shape[0], \"observation and\", df.shape[1], \"columns in the dataset\")"
   ]
  },
  {
   "cell_type": "code",
   "execution_count": 208,
   "metadata": {
    "execution": {
     "iopub.execute_input": "2021-10-19T22:47:25.332608Z",
     "iopub.status.busy": "2021-10-19T22:47:25.332305Z",
     "iopub.status.idle": "2021-10-19T22:47:25.350437Z",
     "shell.execute_reply": "2021-10-19T22:47:25.349535Z",
     "shell.execute_reply.started": "2021-10-19T22:47:25.332577Z"
    },
    "scrolled": true
   },
   "outputs": [],
   "source": [
    "df.info()"
   ]
  },
  {
   "cell_type": "code",
   "execution_count": 209,
   "metadata": {
    "execution": {
     "iopub.execute_input": "2021-10-19T22:47:25.767682Z",
     "iopub.status.busy": "2021-10-19T22:47:25.767250Z",
     "iopub.status.idle": "2021-10-19T22:47:25.804005Z",
     "shell.execute_reply": "2021-10-19T22:47:25.803223Z",
     "shell.execute_reply.started": "2021-10-19T22:47:25.767628Z"
    },
    "scrolled": true
   },
   "outputs": [],
   "source": [
    "df.describe().T"
   ]
  },
  {
   "cell_type": "code",
   "execution_count": 210,
   "metadata": {
    "execution": {
     "iopub.execute_input": "2021-10-19T22:47:26.180461Z",
     "iopub.status.busy": "2021-10-19T22:47:26.180186Z",
     "iopub.status.idle": "2021-10-19T22:47:26.269931Z",
     "shell.execute_reply": "2021-10-19T22:47:26.268946Z",
     "shell.execute_reply.started": "2021-10-19T22:47:26.180429Z"
    },
    "scrolled": true
   },
   "outputs": [],
   "source": [
    "df.describe(include=object).T"
   ]
  },
  {
   "cell_type": "code",
   "execution_count": 211,
   "metadata": {
    "execution": {
     "iopub.execute_input": "2021-10-19T22:47:26.576353Z",
     "iopub.status.busy": "2021-10-19T22:47:26.576054Z",
     "iopub.status.idle": "2021-10-19T22:47:26.595538Z",
     "shell.execute_reply": "2021-10-19T22:47:26.594872Z",
     "shell.execute_reply.started": "2021-10-19T22:47:26.576323Z"
    },
    "scrolled": true
   },
   "outputs": [],
   "source": [
    "df.nunique()"
   ]
  },
  {
   "cell_type": "code",
   "execution_count": 212,
   "metadata": {
    "execution": {
     "iopub.execute_input": "2021-10-19T22:47:26.976117Z",
     "iopub.status.busy": "2021-10-19T22:47:26.975703Z",
     "iopub.status.idle": "2021-10-19T22:47:26.985538Z",
     "shell.execute_reply": "2021-10-19T22:47:26.984684Z",
     "shell.execute_reply.started": "2021-10-19T22:47:26.976084Z"
    },
    "scrolled": true
   },
   "outputs": [],
   "source": [
    "# to find how many unique values object features have\n",
    "for col in df.select_dtypes(include=[np.number]).columns:\n",
    "  print(f\"{col} has {df[col].nunique()} unique value\")"
   ]
  },
  {
   "cell_type": "code",
   "execution_count": 213,
   "metadata": {
    "execution": {
     "iopub.execute_input": "2021-10-19T22:47:27.431105Z",
     "iopub.status.busy": "2021-10-19T22:47:27.430274Z",
     "iopub.status.idle": "2021-10-19T22:47:27.447080Z",
     "shell.execute_reply": "2021-10-19T22:47:27.446390Z",
     "shell.execute_reply.started": "2021-10-19T22:47:27.431058Z"
    }
   },
   "outputs": [],
   "source": [
    "df.duplicated().value_counts()"
   ]
  },
  {
   "cell_type": "code",
   "execution_count": 214,
   "metadata": {
    "execution": {
     "iopub.execute_input": "2021-10-19T22:47:28.023852Z",
     "iopub.status.busy": "2021-10-19T22:47:28.023043Z",
     "iopub.status.idle": "2021-10-19T22:47:28.038750Z",
     "shell.execute_reply": "2021-10-19T22:47:28.038034Z",
     "shell.execute_reply.started": "2021-10-19T22:47:28.023796Z"
    }
   },
   "outputs": [],
   "source": [
    "duplicate = df[df.duplicated()]"
   ]
  },
  {
   "cell_type": "code",
   "execution_count": 215,
   "metadata": {
    "execution": {
     "iopub.execute_input": "2021-10-19T22:47:28.629285Z",
     "iopub.status.busy": "2021-10-19T22:47:28.628383Z",
     "iopub.status.idle": "2021-10-19T22:47:28.708113Z",
     "shell.execute_reply": "2021-10-19T22:47:28.707144Z",
     "shell.execute_reply.started": "2021-10-19T22:47:28.629240Z"
    }
   },
   "outputs": [],
   "source": [
    "duplicate"
   ]
  },
  {
   "cell_type": "code",
   "execution_count": 216,
   "metadata": {
    "execution": {
     "iopub.execute_input": "2021-10-19T22:47:29.119022Z",
     "iopub.status.busy": "2021-10-19T22:47:29.118268Z",
     "iopub.status.idle": "2021-10-19T22:47:29.133548Z",
     "shell.execute_reply": "2021-10-19T22:47:29.132606Z",
     "shell.execute_reply.started": "2021-10-19T22:47:29.118981Z"
    }
   },
   "outputs": [],
   "source": [
    "df.drop_duplicates(keep=False, inplace=True)"
   ]
  },
  {
   "cell_type": "code",
   "execution_count": 217,
   "metadata": {
    "execution": {
     "iopub.execute_input": "2021-10-19T22:47:30.128056Z",
     "iopub.status.busy": "2021-10-19T22:47:30.127757Z",
     "iopub.status.idle": "2021-10-19T22:47:30.133610Z",
     "shell.execute_reply": "2021-10-19T22:47:30.132717Z",
     "shell.execute_reply.started": "2021-10-19T22:47:30.128021Z"
    }
   },
   "outputs": [],
   "source": [
    "df.shape"
   ]
  },
  {
   "cell_type": "markdown",
   "metadata": {
    "id": "oSiUeb-I8AKL"
   },
   "source": [
    "## Convert multi index columns to one level"
   ]
  },
  {
   "cell_type": "code",
   "execution_count": 218,
   "metadata": {
    "execution": {
     "iopub.execute_input": "2021-10-19T22:47:31.903028Z",
     "iopub.status.busy": "2021-10-19T22:47:31.902152Z",
     "iopub.status.idle": "2021-10-19T22:47:31.944761Z",
     "shell.execute_reply": "2021-10-19T22:47:31.943892Z",
     "shell.execute_reply.started": "2021-10-19T22:47:31.902976Z"
    }
   },
   "outputs": [],
   "source": [
    "df.head(1)"
   ]
  },
  {
   "cell_type": "code",
   "execution_count": 219,
   "metadata": {
    "execution": {
     "iopub.execute_input": "2021-10-19T22:47:32.755840Z",
     "iopub.status.busy": "2021-10-19T22:47:32.755184Z",
     "iopub.status.idle": "2021-10-19T22:47:32.761203Z",
     "shell.execute_reply": "2021-10-19T22:47:32.760560Z",
     "shell.execute_reply.started": "2021-10-19T22:47:32.755795Z"
    }
   },
   "outputs": [],
   "source": [
    "df.rename(columns={'military_strength': 'country'}, inplace=True)"
   ]
  },
  {
   "cell_type": "code",
   "execution_count": 220,
   "metadata": {
    "execution": {
     "iopub.execute_input": "2021-10-19T22:47:47.182195Z",
     "iopub.status.busy": "2021-10-19T22:47:47.181866Z",
     "iopub.status.idle": "2021-10-19T22:47:47.228328Z",
     "shell.execute_reply": "2021-10-19T22:47:47.227108Z",
     "shell.execute_reply.started": "2021-10-19T22:47:47.182147Z"
    }
   },
   "outputs": [],
   "source": [
    "df.head(1)"
   ]
  },
  {
   "cell_type": "markdown",
   "metadata": {
    "id": "9AHJyubO8AKM"
   },
   "source": [
    "## Detect and drop duplicated columns"
   ]
  },
  {
   "cell_type": "code",
   "execution_count": 221,
   "metadata": {
    "execution": {
     "iopub.execute_input": "2021-10-19T22:47:52.153149Z",
     "iopub.status.busy": "2021-10-19T22:47:52.152872Z",
     "iopub.status.idle": "2021-10-19T22:47:52.159309Z",
     "shell.execute_reply": "2021-10-19T22:47:52.158729Z",
     "shell.execute_reply.started": "2021-10-19T22:47:52.153120Z"
    },
    "id": "zb_hDNB08AKM",
    "scrolled": true
   },
   "outputs": [],
   "source": [
    "df.columns"
   ]
  },
  {
   "cell_type": "code",
   "execution_count": 222,
   "metadata": {
    "execution": {
     "iopub.execute_input": "2021-10-19T22:47:53.133820Z",
     "iopub.status.busy": "2021-10-19T22:47:53.133377Z",
     "iopub.status.idle": "2021-10-19T22:47:53.139839Z",
     "shell.execute_reply": "2021-10-19T22:47:53.139137Z",
     "shell.execute_reply.started": "2021-10-19T22:47:53.133780Z"
    }
   },
   "outputs": [],
   "source": [
    "drop_columns = ['aircraft_strength',\n",
    "               'fighter/interceptor_strength',\n",
    "               'attack_aircraft_strength',\n",
    "               'transport_aircraft_fleet_strength',\n",
    "               'trainer_aircraft_fleet',\n",
    "               'helicopter_fleet_strength',\n",
    "               'attack_helicopter_fleet_strength',\n",
    "               'tank_strength',\n",
    "               'afv/apc_strength',\n",
    "               'self-propelled_artillery_strength',\n",
    "               'towed_artillery_strength',\n",
    "               'rocket_projector_strength',\n",
    "               'navy_fleet_strengths',\n",
    "               'aircraft_carrier_fleet_strength',\n",
    "               'submarine_fleet_strength',\n",
    "               'destroyer_fleet_strength',\n",
    "               'frigate_fleet_strength',\n",
    "               'defense_spending_budget',\n",
    "               'external_debt',\n",
    "               'airport_totals', \n",
    "               'oil_production',\n",
    "               'oil_consumption',\n",
    "               'proven_oil_reserves',\n",
    "               'available_manpower',\n",
    "               'total_population',\n",
    "               'total_square_land_area',\n",
    "               'total_coastline_coverage',\n",
    "               'total_waterway_coverage',\n",
    "               'total_border_coverage',\n",
    "               ]"
   ]
  },
  {
   "cell_type": "code",
   "execution_count": 223,
   "metadata": {
    "execution": {
     "iopub.execute_input": "2021-10-19T22:47:53.976391Z",
     "iopub.status.busy": "2021-10-19T22:47:53.973984Z",
     "iopub.status.idle": "2021-10-19T22:47:53.981585Z",
     "shell.execute_reply": "2021-10-19T22:47:53.980603Z",
     "shell.execute_reply.started": "2021-10-19T22:47:53.976327Z"
    }
   },
   "outputs": [],
   "source": [
    "df.drop(drop_columns, axis = 1, inplace = True)"
   ]
  },
  {
   "cell_type": "code",
   "execution_count": 224,
   "metadata": {
    "execution": {
     "iopub.execute_input": "2021-10-19T22:47:54.784493Z",
     "iopub.status.busy": "2021-10-19T22:47:54.784198Z",
     "iopub.status.idle": "2021-10-19T22:47:54.811727Z",
     "shell.execute_reply": "2021-10-19T22:47:54.810342Z",
     "shell.execute_reply.started": "2021-10-19T22:47:54.784463Z"
    }
   },
   "outputs": [],
   "source": [
    "df.head(1)"
   ]
  },
  {
   "cell_type": "code",
   "execution_count": 225,
   "metadata": {
    "execution": {
     "iopub.execute_input": "2021-10-19T22:47:55.534978Z",
     "iopub.status.busy": "2021-10-19T22:47:55.534705Z",
     "iopub.status.idle": "2021-10-19T22:47:55.540586Z",
     "shell.execute_reply": "2021-10-19T22:47:55.539772Z",
     "shell.execute_reply.started": "2021-10-19T22:47:55.534948Z"
    }
   },
   "outputs": [],
   "source": [
    "df.shape"
   ]
  },
  {
   "cell_type": "markdown",
   "metadata": {
    "id": "D-WNWchf8AKM"
   },
   "source": [
    "## Check for missing values "
   ]
  },
  {
   "cell_type": "code",
   "execution_count": 226,
   "metadata": {
    "execution": {
     "iopub.execute_input": "2021-10-19T22:47:57.013431Z",
     "iopub.status.busy": "2021-10-19T22:47:57.013131Z",
     "iopub.status.idle": "2021-10-19T22:47:57.033499Z",
     "shell.execute_reply": "2021-10-19T22:47:57.032675Z",
     "shell.execute_reply.started": "2021-10-19T22:47:57.013401Z"
    },
    "id": "Hp9q9ILT8AKN",
    "scrolled": true
   },
   "outputs": [],
   "source": [
    "missing (df)"
   ]
  },
  {
   "cell_type": "markdown",
   "metadata": {
    "id": "T-aAEYmI8AKN"
   },
   "source": [
    "## Deal with missing values "
   ]
  },
  {
   "cell_type": "code",
   "execution_count": 227,
   "metadata": {
    "execution": {
     "iopub.execute_input": "2021-10-19T22:47:58.302596Z",
     "iopub.status.busy": "2021-10-19T22:47:58.302271Z",
     "iopub.status.idle": "2021-10-19T22:47:58.306527Z",
     "shell.execute_reply": "2021-10-19T22:47:58.305620Z",
     "shell.execute_reply.started": "2021-10-19T22:47:58.302556Z"
    }
   },
   "outputs": [],
   "source": [
    "# submarine_fleet_strength_value : South Korea --> 22\n",
    "# frigate_fleet_strength_value : South Korea --> 4\n",
    "# destroyer_fleet_strength_value : South Korea --> 12"
   ]
  },
  {
   "cell_type": "code",
   "execution_count": 228,
   "metadata": {
    "execution": {
     "iopub.execute_input": "2021-10-19T22:47:58.826309Z",
     "iopub.status.busy": "2021-10-19T22:47:58.825545Z",
     "iopub.status.idle": "2021-10-19T22:47:58.832830Z",
     "shell.execute_reply": "2021-10-19T22:47:58.831915Z",
     "shell.execute_reply.started": "2021-10-19T22:47:58.826257Z"
    }
   },
   "outputs": [],
   "source": [
    "df.loc[(df['country']==\"South Korea\") & (df['submarine_fleet_strength_value'].isnull()), 'submarine_fleet_strength_value'] = 22"
   ]
  },
  {
   "cell_type": "code",
   "execution_count": 229,
   "metadata": {
    "execution": {
     "iopub.execute_input": "2021-10-19T22:47:59.355967Z",
     "iopub.status.busy": "2021-10-19T22:47:59.355688Z",
     "iopub.status.idle": "2021-10-19T22:47:59.362757Z",
     "shell.execute_reply": "2021-10-19T22:47:59.361810Z",
     "shell.execute_reply.started": "2021-10-19T22:47:59.355938Z"
    }
   },
   "outputs": [],
   "source": [
    "df.loc[(df['country']==\"South Korea\") & (df['frigate_fleet_strength_value'].isnull()), 'frigate_fleet_strength_value'] = 4"
   ]
  },
  {
   "cell_type": "code",
   "execution_count": 230,
   "metadata": {
    "execution": {
     "iopub.execute_input": "2021-10-19T22:47:59.907394Z",
     "iopub.status.busy": "2021-10-19T22:47:59.907073Z",
     "iopub.status.idle": "2021-10-19T22:47:59.914671Z",
     "shell.execute_reply": "2021-10-19T22:47:59.913521Z",
     "shell.execute_reply.started": "2021-10-19T22:47:59.907364Z"
    }
   },
   "outputs": [],
   "source": [
    "df.loc[(df['country']==\"South Korea\") & (df['destroyer_fleet_strength_value'].isnull()), 'destroyer_fleet_strength_value'] = 12"
   ]
  },
  {
   "cell_type": "code",
   "execution_count": 231,
   "metadata": {
    "execution": {
     "iopub.execute_input": "2021-10-19T22:48:00.443336Z",
     "iopub.status.busy": "2021-10-19T22:48:00.443047Z",
     "iopub.status.idle": "2021-10-19T22:48:00.463421Z",
     "shell.execute_reply": "2021-10-19T22:48:00.462481Z",
     "shell.execute_reply.started": "2021-10-19T22:48:00.443304Z"
    },
    "scrolled": true
   },
   "outputs": [],
   "source": [
    "missing (df)"
   ]
  },
  {
   "cell_type": "code",
   "execution_count": 232,
   "metadata": {
    "execution": {
     "iopub.execute_input": "2021-10-19T22:48:01.003371Z",
     "iopub.status.busy": "2021-10-19T22:48:01.003067Z",
     "iopub.status.idle": "2021-10-19T22:48:01.010432Z",
     "shell.execute_reply": "2021-10-19T22:48:01.009421Z",
     "shell.execute_reply.started": "2021-10-19T22:48:01.003340Z"
    }
   },
   "outputs": [],
   "source": [
    "df.fillna(0, inplace=True)"
   ]
  },
  {
   "cell_type": "code",
   "execution_count": 233,
   "metadata": {
    "execution": {
     "iopub.execute_input": "2021-10-19T22:48:01.621986Z",
     "iopub.status.busy": "2021-10-19T22:48:01.621511Z",
     "iopub.status.idle": "2021-10-19T22:48:01.654263Z",
     "shell.execute_reply": "2021-10-19T22:48:01.653237Z",
     "shell.execute_reply.started": "2021-10-19T22:48:01.621954Z"
    },
    "scrolled": true
   },
   "outputs": [],
   "source": [
    "missing (df)"
   ]
  },
  {
   "cell_type": "markdown",
   "metadata": {
    "id": "OpG3lbXj8AKN"
   },
   "source": [
    "## Fix the dtypes"
   ]
  },
  {
   "cell_type": "code",
   "execution_count": 234,
   "metadata": {
    "execution": {
     "iopub.execute_input": "2021-10-19T22:48:03.805549Z",
     "iopub.status.busy": "2021-10-19T22:48:03.805277Z",
     "iopub.status.idle": "2021-10-19T22:48:03.813948Z",
     "shell.execute_reply": "2021-10-19T22:48:03.813011Z",
     "shell.execute_reply.started": "2021-10-19T22:48:03.805520Z"
    },
    "id": "uTPH08uK8AKO",
    "scrolled": true
   },
   "outputs": [],
   "source": [
    "df.dtypes"
   ]
  },
  {
   "cell_type": "code",
   "execution_count": 235,
   "metadata": {
    "execution": {
     "iopub.execute_input": "2021-10-19T22:48:04.511403Z",
     "iopub.status.busy": "2021-10-19T22:48:04.511104Z",
     "iopub.status.idle": "2021-10-19T22:48:04.537432Z",
     "shell.execute_reply": "2021-10-19T22:48:04.536281Z",
     "shell.execute_reply.started": "2021-10-19T22:48:04.511369Z"
    }
   },
   "outputs": [],
   "source": [
    "df.head(1)"
   ]
  },
  {
   "cell_type": "code",
   "execution_count": 236,
   "metadata": {
    "execution": {
     "iopub.execute_input": "2021-10-19T22:48:05.885043Z",
     "iopub.status.busy": "2021-10-19T22:48:05.884746Z",
     "iopub.status.idle": "2021-10-19T22:48:05.891469Z",
     "shell.execute_reply": "2021-10-19T22:48:05.890524Z",
     "shell.execute_reply.started": "2021-10-19T22:48:05.885013Z"
    }
   },
   "outputs": [],
   "source": [
    "df = df.reset_index()   # df = df.reset_index(drop = True)\n",
    "del df['index']"
   ]
  },
  {
   "cell_type": "code",
   "execution_count": 237,
   "metadata": {
    "execution": {
     "iopub.execute_input": "2021-10-19T22:48:06.531049Z",
     "iopub.status.busy": "2021-10-19T22:48:06.530755Z",
     "iopub.status.idle": "2021-10-19T22:48:06.536585Z",
     "shell.execute_reply": "2021-10-19T22:48:06.535767Z",
     "shell.execute_reply.started": "2021-10-19T22:48:06.531014Z"
    }
   },
   "outputs": [],
   "source": [
    "df.set_index('country', inplace=True)"
   ]
  },
  {
   "cell_type": "code",
   "execution_count": 238,
   "metadata": {
    "execution": {
     "iopub.execute_input": "2021-10-19T22:48:07.576071Z",
     "iopub.status.busy": "2021-10-19T22:48:07.575791Z",
     "iopub.status.idle": "2021-10-19T22:48:07.603523Z",
     "shell.execute_reply": "2021-10-19T22:48:07.602555Z",
     "shell.execute_reply.started": "2021-10-19T22:48:07.576041Z"
    }
   },
   "outputs": [],
   "source": [
    "for col in df.columns:\n",
    "    if df.dtypes[col] == np.object:\n",
    "        df[col] = df[col].apply(lambda x : x.replace(\",\", \"\") if type(x) != int else x).astype(\"float\")"
   ]
  },
  {
   "cell_type": "code",
   "execution_count": 239,
   "metadata": {
    "execution": {
     "iopub.execute_input": "2021-10-19T22:48:08.329379Z",
     "iopub.status.busy": "2021-10-19T22:48:08.329069Z",
     "iopub.status.idle": "2021-10-19T22:48:08.348971Z",
     "shell.execute_reply": "2021-10-19T22:48:08.348020Z",
     "shell.execute_reply.started": "2021-10-19T22:48:08.329341Z"
    },
    "scrolled": true
   },
   "outputs": [],
   "source": [
    "df.info()"
   ]
  },
  {
   "cell_type": "code",
   "execution_count": 240,
   "metadata": {
    "execution": {
     "iopub.execute_input": "2021-10-19T22:48:08.974467Z",
     "iopub.status.busy": "2021-10-19T22:48:08.974145Z",
     "iopub.status.idle": "2021-10-19T22:48:09.005139Z",
     "shell.execute_reply": "2021-10-19T22:48:09.004236Z",
     "shell.execute_reply.started": "2021-10-19T22:48:08.974418Z"
    },
    "scrolled": true
   },
   "outputs": [],
   "source": [
    "missing(df)"
   ]
  },
  {
   "cell_type": "markdown",
   "metadata": {
    "id": "hGGYZWU58AKO"
   },
   "source": [
    "## Drop the features that not affect military power"
   ]
  },
  {
   "cell_type": "code",
   "execution_count": 241,
   "metadata": {
    "execution": {
     "iopub.execute_input": "2021-10-19T22:48:10.609275Z",
     "iopub.status.busy": "2021-10-19T22:48:10.608820Z",
     "iopub.status.idle": "2021-10-19T22:48:10.633213Z",
     "shell.execute_reply": "2021-10-19T22:48:10.632556Z",
     "shell.execute_reply.started": "2021-10-19T22:48:10.609215Z"
    }
   },
   "outputs": [],
   "source": [
    "df.head(1)"
   ]
  },
  {
   "cell_type": "code",
   "execution_count": 242,
   "metadata": {
    "execution": {
     "iopub.execute_input": "2021-10-19T22:48:11.359175Z",
     "iopub.status.busy": "2021-10-19T22:48:11.358613Z",
     "iopub.status.idle": "2021-10-19T22:48:11.365972Z",
     "shell.execute_reply": "2021-10-19T22:48:11.365237Z",
     "shell.execute_reply.started": "2021-10-19T22:48:11.359123Z"
    }
   },
   "outputs": [],
   "source": [
    "df.columns"
   ]
  },
  {
   "cell_type": "code",
   "execution_count": 243,
   "metadata": {
    "execution": {
     "iopub.execute_input": "2021-10-19T22:48:13.359383Z",
     "iopub.status.busy": "2021-10-19T22:48:13.359075Z",
     "iopub.status.idle": "2021-10-19T22:48:13.365485Z",
     "shell.execute_reply": "2021-10-19T22:48:13.364667Z",
     "shell.execute_reply.started": "2021-10-19T22:48:13.359352Z"
    }
   },
   "outputs": [],
   "source": [
    "df.shape"
   ]
  },
  {
   "cell_type": "code",
   "execution_count": 244,
   "metadata": {
    "execution": {
     "iopub.execute_input": "2021-10-19T22:48:14.244908Z",
     "iopub.status.busy": "2021-10-19T22:48:14.244647Z",
     "iopub.status.idle": "2021-10-19T22:48:14.258464Z",
     "shell.execute_reply": "2021-10-19T22:48:14.257577Z",
     "shell.execute_reply.started": "2021-10-19T22:48:14.244879Z"
    },
    "scrolled": true
   },
   "outputs": [],
   "source": [
    "for col in df.select_dtypes(include=[np.number]).columns:\n",
    "    if df[col].min() == 0:\n",
    "        print(col)"
   ]
  },
  {
   "cell_type": "code",
   "execution_count": 245,
   "metadata": {
    "execution": {
     "iopub.execute_input": "2021-10-19T22:48:16.240475Z",
     "iopub.status.busy": "2021-10-19T22:48:16.239913Z",
     "iopub.status.idle": "2021-10-19T22:48:16.244055Z",
     "shell.execute_reply": "2021-10-19T22:48:16.243228Z",
     "shell.execute_reply.started": "2021-10-19T22:48:16.240436Z"
    }
   },
   "outputs": [],
   "source": [
    "# Georeferences\n",
    "\n",
    "# \"total_coastline_coverage_value\"\n",
    "# \"total_waterway_coverage_value\"\n",
    "# \"total_border_coverage_value\"\n",
    "# \"total_square_land_area_value\""
   ]
  },
  {
   "cell_type": "code",
   "execution_count": 246,
   "metadata": {
    "execution": {
     "iopub.execute_input": "2021-10-19T22:48:17.736147Z",
     "iopub.status.busy": "2021-10-19T22:48:17.735861Z",
     "iopub.status.idle": "2021-10-19T22:48:17.744484Z",
     "shell.execute_reply": "2021-10-19T22:48:17.743672Z",
     "shell.execute_reply.started": "2021-10-19T22:48:17.736104Z"
    },
    "scrolled": true
   },
   "outputs": [],
   "source": [
    "df[df[\"total_coastline_coverage_value\"]==0][\"total_coastline_coverage_value\"]"
   ]
  },
  {
   "cell_type": "code",
   "execution_count": 247,
   "metadata": {
    "execution": {
     "iopub.execute_input": "2021-10-19T22:48:18.232198Z",
     "iopub.status.busy": "2021-10-19T22:48:18.231886Z",
     "iopub.status.idle": "2021-10-19T22:48:18.241224Z",
     "shell.execute_reply": "2021-10-19T22:48:18.240481Z",
     "shell.execute_reply.started": "2021-10-19T22:48:18.232150Z"
    },
    "scrolled": true
   },
   "outputs": [],
   "source": [
    "df[df[\"total_waterway_coverage_value\"]==0][\"total_waterway_coverage_value\"]"
   ]
  },
  {
   "cell_type": "code",
   "execution_count": 248,
   "metadata": {
    "execution": {
     "iopub.execute_input": "2021-10-19T22:48:18.745357Z",
     "iopub.status.busy": "2021-10-19T22:48:18.744937Z",
     "iopub.status.idle": "2021-10-19T22:48:18.754512Z",
     "shell.execute_reply": "2021-10-19T22:48:18.753473Z",
     "shell.execute_reply.started": "2021-10-19T22:48:18.745314Z"
    },
    "scrolled": true
   },
   "outputs": [],
   "source": [
    "df[df[\"total_border_coverage_value\"]==0][\"total_border_coverage_value\"]"
   ]
  },
  {
   "cell_type": "code",
   "execution_count": 249,
   "metadata": {
    "execution": {
     "iopub.execute_input": "2021-10-19T22:48:19.302725Z",
     "iopub.status.busy": "2021-10-19T22:48:19.302173Z",
     "iopub.status.idle": "2021-10-19T22:48:19.310968Z",
     "shell.execute_reply": "2021-10-19T22:48:19.310108Z",
     "shell.execute_reply.started": "2021-10-19T22:48:19.302675Z"
    }
   },
   "outputs": [],
   "source": [
    "df[df[\"total_square_land_area_value\"]==0][\"total_square_land_area_value\"]"
   ]
  },
  {
   "cell_type": "code",
   "execution_count": 250,
   "metadata": {
    "execution": {
     "iopub.execute_input": "2021-10-19T22:48:19.900378Z",
     "iopub.status.busy": "2021-10-19T22:48:19.899537Z",
     "iopub.status.idle": "2021-10-19T22:48:19.904742Z",
     "shell.execute_reply": "2021-10-19T22:48:19.903608Z",
     "shell.execute_reply.started": "2021-10-19T22:48:19.900332Z"
    }
   },
   "outputs": [],
   "source": [
    "drop_columns = [\"total_coastline_coverage_value\",\n",
    "               \"total_waterway_coverage_value\",\n",
    "               \"total_border_coverage_value\",\n",
    "               \"total_square_land_area_value\"]"
   ]
  },
  {
   "cell_type": "code",
   "execution_count": 251,
   "metadata": {
    "execution": {
     "iopub.execute_input": "2021-10-19T22:48:20.590502Z",
     "iopub.status.busy": "2021-10-19T22:48:20.590225Z",
     "iopub.status.idle": "2021-10-19T22:48:20.600490Z",
     "shell.execute_reply": "2021-10-19T22:48:20.599588Z",
     "shell.execute_reply.started": "2021-10-19T22:48:20.590473Z"
    }
   },
   "outputs": [],
   "source": [
    "df.drop(drop_columns, axis = 1, inplace = True)"
   ]
  },
  {
   "cell_type": "code",
   "execution_count": 252,
   "metadata": {
    "execution": {
     "iopub.execute_input": "2021-10-19T22:48:21.296572Z",
     "iopub.status.busy": "2021-10-19T22:48:21.295776Z",
     "iopub.status.idle": "2021-10-19T22:48:21.301299Z",
     "shell.execute_reply": "2021-10-19T22:48:21.300391Z",
     "shell.execute_reply.started": "2021-10-19T22:48:21.296532Z"
    }
   },
   "outputs": [],
   "source": [
    "df.shape"
   ]
  },
  {
   "cell_type": "code",
   "execution_count": 253,
   "metadata": {
    "execution": {
     "iopub.execute_input": "2021-10-19T22:48:21.967408Z",
     "iopub.status.busy": "2021-10-19T22:48:21.967060Z",
     "iopub.status.idle": "2021-10-19T22:48:21.974522Z",
     "shell.execute_reply": "2021-10-19T22:48:21.973500Z",
     "shell.execute_reply.started": "2021-10-19T22:48:21.967371Z"
    }
   },
   "outputs": [],
   "source": [
    "df.columns"
   ]
  },
  {
   "cell_type": "markdown",
   "metadata": {
    "id": "_Q9a0ODT8AKO"
   },
   "source": [
    "## Visualy inspect the some features"
   ]
  },
  {
   "cell_type": "code",
   "execution_count": 254,
   "metadata": {
    "execution": {
     "iopub.execute_input": "2021-10-19T22:48:45.018141Z",
     "iopub.status.busy": "2021-10-19T22:48:45.017332Z",
     "iopub.status.idle": "2021-10-19T22:48:45.038662Z",
     "shell.execute_reply": "2021-10-19T22:48:45.038000Z",
     "shell.execute_reply.started": "2021-10-19T22:48:45.018077Z"
    }
   },
   "outputs": [],
   "source": [
    "df.head(1)"
   ]
  },
  {
   "cell_type": "code",
   "execution_count": 255,
   "metadata": {
    "execution": {
     "iopub.execute_input": "2021-10-19T22:48:49.609941Z",
     "iopub.status.busy": "2021-10-19T22:48:49.609510Z",
     "iopub.status.idle": "2021-10-19T22:50:39.460263Z",
     "shell.execute_reply": "2021-10-19T22:50:39.459584Z",
     "shell.execute_reply.started": "2021-10-19T22:48:49.609904Z"
    },
    "id": "6xQ6MEDy8AKO",
    "scrolled": true
   },
   "outputs": [],
   "source": [
    "sns.pairplot(df, palette=\"inferno\", corner=True);"
   ]
  },
  {
   "cell_type": "code",
   "execution_count": 256,
   "metadata": {
    "collapsed": true,
    "execution": {
     "iopub.execute_input": "2021-10-19T22:52:12.203929Z",
     "iopub.status.busy": "2021-10-19T22:52:12.203497Z",
     "iopub.status.idle": "2021-10-19T22:53:27.143108Z",
     "shell.execute_reply": "2021-10-19T22:53:27.142189Z",
     "shell.execute_reply.started": "2021-10-19T22:52:12.203897Z"
    },
    "jupyter": {
     "outputs_hidden": true
    }
   },
   "outputs": [],
   "source": [
    "for col in df.columns:\n",
    "    plt.figure(figsize = (22,6))\n",
    "    sns.barplot(y = df[col], x = df.index, data = df)\n",
    "    plt.xticks(rotation = 45);"
   ]
  },
  {
   "cell_type": "markdown",
   "metadata": {
    "id": "J4kKwd4y8AKP"
   },
   "source": [
    "## Descriptive statistics"
   ]
  },
  {
   "cell_type": "code",
   "execution_count": 259,
   "metadata": {
    "execution": {
     "iopub.execute_input": "2021-10-19T22:54:40.998397Z",
     "iopub.status.busy": "2021-10-19T22:54:40.998103Z",
     "iopub.status.idle": "2021-10-19T22:54:41.069713Z",
     "shell.execute_reply": "2021-10-19T22:54:41.068771Z",
     "shell.execute_reply.started": "2021-10-19T22:54:40.998367Z"
    },
    "id": "MRfNR8p_8AKP",
    "scrolled": true
   },
   "outputs": [],
   "source": [
    "df.describe().T"
   ]
  },
  {
   "cell_type": "markdown",
   "metadata": {
    "id": "8WuFtB6i8AKP"
   },
   "source": [
    "# Data Preprocessing"
   ]
  },
  {
   "cell_type": "code",
   "execution_count": 270,
   "metadata": {
    "execution": {
     "iopub.execute_input": "2021-10-19T22:57:46.317528Z",
     "iopub.status.busy": "2021-10-19T22:57:46.317227Z",
     "iopub.status.idle": "2021-10-19T22:57:46.395914Z",
     "shell.execute_reply": "2021-10-19T22:57:46.395225Z",
     "shell.execute_reply.started": "2021-10-19T22:57:46.317457Z"
    }
   },
   "outputs": [],
   "source": [
    "from sklearn.preprocessing import StandardScaler, RobustScaler, MinMaxScaler, scale\n",
    "import warnings\n",
    "warnings.filterwarnings('ignore')\n",
    "warnings.filterwarnings(\"ignore\", category=DeprecationWarning)\n",
    "warnings.filterwarnings(\"ignore\", category=FutureWarning)\n",
    "from sklearn.cluster import KMeans"
   ]
  },
  {
   "cell_type": "code",
   "execution_count": 261,
   "metadata": {
    "execution": {
     "iopub.execute_input": "2021-10-19T22:55:00.119877Z",
     "iopub.status.busy": "2021-10-19T22:55:00.119578Z",
     "iopub.status.idle": "2021-10-19T22:55:00.124693Z",
     "shell.execute_reply": "2021-10-19T22:55:00.123690Z",
     "shell.execute_reply.started": "2021-10-19T22:55:00.119844Z"
    },
    "id": "8PjRKofq8AKP"
   },
   "outputs": [],
   "source": [
    "df1 = df.copy()"
   ]
  },
  {
   "cell_type": "code",
   "execution_count": 262,
   "metadata": {
    "execution": {
     "iopub.execute_input": "2021-10-19T22:55:01.590061Z",
     "iopub.status.busy": "2021-10-19T22:55:01.589271Z",
     "iopub.status.idle": "2021-10-19T22:55:01.595927Z",
     "shell.execute_reply": "2021-10-19T22:55:01.594706Z",
     "shell.execute_reply.started": "2021-10-19T22:55:01.589999Z"
    }
   },
   "outputs": [],
   "source": [
    "df1.reset_index(inplace=True)"
   ]
  },
  {
   "cell_type": "code",
   "execution_count": 263,
   "metadata": {
    "execution": {
     "iopub.execute_input": "2021-10-19T22:55:09.455659Z",
     "iopub.status.busy": "2021-10-19T22:55:09.455376Z",
     "iopub.status.idle": "2021-10-19T22:55:09.476720Z",
     "shell.execute_reply": "2021-10-19T22:55:09.475953Z",
     "shell.execute_reply.started": "2021-10-19T22:55:09.455628Z"
    }
   },
   "outputs": [],
   "source": [
    "df1.head(1)"
   ]
  },
  {
   "cell_type": "code",
   "execution_count": 264,
   "metadata": {
    "execution": {
     "iopub.execute_input": "2021-10-19T22:55:11.692171Z",
     "iopub.status.busy": "2021-10-19T22:55:11.691869Z",
     "iopub.status.idle": "2021-10-19T22:55:11.697409Z",
     "shell.execute_reply": "2021-10-19T22:55:11.696372Z",
     "shell.execute_reply.started": "2021-10-19T22:55:11.692125Z"
    }
   },
   "outputs": [],
   "source": [
    "X = df1.drop([\"country\"], axis = 1)"
   ]
  },
  {
   "cell_type": "code",
   "execution_count": 265,
   "metadata": {
    "execution": {
     "iopub.execute_input": "2021-10-19T22:55:13.700424Z",
     "iopub.status.busy": "2021-10-19T22:55:13.700114Z",
     "iopub.status.idle": "2021-10-19T22:55:13.704538Z",
     "shell.execute_reply": "2021-10-19T22:55:13.703654Z",
     "shell.execute_reply.started": "2021-10-19T22:55:13.700390Z"
    }
   },
   "outputs": [],
   "source": [
    "scaler = scale"
   ]
  },
  {
   "cell_type": "code",
   "execution_count": 266,
   "metadata": {
    "execution": {
     "iopub.execute_input": "2021-10-19T22:55:14.679699Z",
     "iopub.status.busy": "2021-10-19T22:55:14.679014Z",
     "iopub.status.idle": "2021-10-19T22:55:14.687176Z",
     "shell.execute_reply": "2021-10-19T22:55:14.686234Z",
     "shell.execute_reply.started": "2021-10-19T22:55:14.679653Z"
    }
   },
   "outputs": [],
   "source": [
    "X_scaled = pd.DataFrame(scaler(X))"
   ]
  },
  {
   "cell_type": "code",
   "execution_count": 267,
   "metadata": {
    "execution": {
     "iopub.execute_input": "2021-10-19T22:55:15.969883Z",
     "iopub.status.busy": "2021-10-19T22:55:15.969603Z",
     "iopub.status.idle": "2021-10-19T22:55:15.989612Z",
     "shell.execute_reply": "2021-10-19T22:55:15.988697Z",
     "shell.execute_reply.started": "2021-10-19T22:55:15.969854Z"
    }
   },
   "outputs": [],
   "source": [
    "X_scaled.head(1)"
   ]
  },
  {
   "cell_type": "code",
   "execution_count": 268,
   "metadata": {
    "execution": {
     "iopub.execute_input": "2021-10-19T22:55:17.186237Z",
     "iopub.status.busy": "2021-10-19T22:55:17.185898Z",
     "iopub.status.idle": "2021-10-19T22:55:17.193615Z",
     "shell.execute_reply": "2021-10-19T22:55:17.192245Z",
     "shell.execute_reply.started": "2021-10-19T22:55:17.186189Z"
    }
   },
   "outputs": [],
   "source": [
    "X_scaled.shape"
   ]
  },
  {
   "cell_type": "markdown",
   "metadata": {
    "id": "RjfzLF0P8AKP"
   },
   "source": [
    "# Modelling"
   ]
  },
  {
   "cell_type": "code",
   "execution_count": 271,
   "metadata": {
    "execution": {
     "iopub.execute_input": "2021-10-19T22:57:52.727272Z",
     "iopub.status.busy": "2021-10-19T22:57:52.726969Z",
     "iopub.status.idle": "2021-10-19T22:57:52.731115Z",
     "shell.execute_reply": "2021-10-19T22:57:52.730471Z",
     "shell.execute_reply.started": "2021-10-19T22:57:52.727237Z"
    },
    "id": "Jnan1N358AKP"
   },
   "outputs": [],
   "source": [
    "K_means_model = KMeans(random_state = 101)"
   ]
  },
  {
   "cell_type": "code",
   "execution_count": 272,
   "metadata": {
    "execution": {
     "iopub.execute_input": "2021-10-19T22:57:54.896319Z",
     "iopub.status.busy": "2021-10-19T22:57:54.895783Z",
     "iopub.status.idle": "2021-10-19T22:57:54.955965Z",
     "shell.execute_reply": "2021-10-19T22:57:54.955019Z",
     "shell.execute_reply.started": "2021-10-19T22:57:54.896276Z"
    }
   },
   "outputs": [],
   "source": [
    "K_means_model.fit_predict(X)"
   ]
  },
  {
   "cell_type": "markdown",
   "metadata": {
    "id": "dR6v_MwP8AKQ"
   },
   "source": [
    "## Hopkins Test \n",
    "#### Assess the clusterability of a dataset. A score between 0 and 1, a score around 0.5 express no clusterability, a score tending to 1 express an uniform distrubution so clustering can't be useful and  0 express  not an uniform distrubution hence clusterering can be useful."
   ]
  },
  {
   "cell_type": "code",
   "execution_count": 275,
   "metadata": {
    "execution": {
     "iopub.execute_input": "2021-10-19T23:00:21.250442Z",
     "iopub.status.busy": "2021-10-19T23:00:21.249797Z",
     "iopub.status.idle": "2021-10-19T23:00:33.442216Z",
     "shell.execute_reply": "2021-10-19T23:00:33.441011Z",
     "shell.execute_reply.started": "2021-10-19T23:00:21.250388Z"
    }
   },
   "outputs": [],
   "source": [
    "!pip install pyclustertend"
   ]
  },
  {
   "cell_type": "code",
   "execution_count": 276,
   "metadata": {
    "execution": {
     "iopub.execute_input": "2021-10-19T23:00:40.273896Z",
     "iopub.status.busy": "2021-10-19T23:00:40.273591Z",
     "iopub.status.idle": "2021-10-19T23:00:40.283014Z",
     "shell.execute_reply": "2021-10-19T23:00:40.282300Z",
     "shell.execute_reply.started": "2021-10-19T23:00:40.273859Z"
    }
   },
   "outputs": [],
   "source": [
    "from pyclustertend import hopkins"
   ]
  },
  {
   "cell_type": "code",
   "execution_count": 277,
   "metadata": {
    "execution": {
     "iopub.execute_input": "2021-10-19T23:00:43.212691Z",
     "iopub.status.busy": "2021-10-19T23:00:43.212408Z",
     "iopub.status.idle": "2021-10-19T23:00:43.230833Z",
     "shell.execute_reply": "2021-10-19T23:00:43.229740Z",
     "shell.execute_reply.started": "2021-10-19T23:00:43.212662Z"
    }
   },
   "outputs": [],
   "source": [
    "hopkins(df, df.shape[0])"
   ]
  },
  {
   "cell_type": "code",
   "execution_count": 278,
   "metadata": {
    "execution": {
     "iopub.execute_input": "2021-10-19T23:00:51.865394Z",
     "iopub.status.busy": "2021-10-19T23:00:51.865092Z",
     "iopub.status.idle": "2021-10-19T23:00:51.870924Z",
     "shell.execute_reply": "2021-10-19T23:00:51.869885Z",
     "shell.execute_reply.started": "2021-10-19T23:00:51.865362Z"
    }
   },
   "outputs": [],
   "source": [
    "df11 = df.copy()\n",
    "df12 = df.copy()\n",
    "df13 = df.copy()"
   ]
  },
  {
   "cell_type": "code",
   "execution_count": 279,
   "metadata": {
    "execution": {
     "iopub.execute_input": "2021-10-19T23:00:59.467799Z",
     "iopub.status.busy": "2021-10-19T23:00:59.467524Z",
     "iopub.status.idle": "2021-10-19T23:00:59.489708Z",
     "shell.execute_reply": "2021-10-19T23:00:59.488857Z",
     "shell.execute_reply.started": "2021-10-19T23:00:59.467770Z"
    }
   },
   "outputs": [],
   "source": [
    "hopkins(scale(df11), df11.shape[0])"
   ]
  },
  {
   "cell_type": "code",
   "execution_count": 280,
   "metadata": {
    "execution": {
     "iopub.execute_input": "2021-10-19T23:01:01.784227Z",
     "iopub.status.busy": "2021-10-19T23:01:01.783872Z",
     "iopub.status.idle": "2021-10-19T23:01:01.806453Z",
     "shell.execute_reply": "2021-10-19T23:01:01.805569Z",
     "shell.execute_reply.started": "2021-10-19T23:01:01.784126Z"
    }
   },
   "outputs": [],
   "source": [
    "hopkins(MinMaxScaler().fit_transform(df12), df12.shape[0])"
   ]
  },
  {
   "cell_type": "code",
   "execution_count": 281,
   "metadata": {
    "execution": {
     "iopub.execute_input": "2021-10-19T23:01:03.052096Z",
     "iopub.status.busy": "2021-10-19T23:01:03.051778Z",
     "iopub.status.idle": "2021-10-19T23:01:03.073068Z",
     "shell.execute_reply": "2021-10-19T23:01:03.072052Z",
     "shell.execute_reply.started": "2021-10-19T23:01:03.052060Z"
    }
   },
   "outputs": [],
   "source": [
    "hopkins(StandardScaler().fit_transform(df13), df13.shape[0])"
   ]
  },
  {
   "cell_type": "code",
   "execution_count": 282,
   "metadata": {
    "execution": {
     "iopub.execute_input": "2021-10-19T23:01:12.992374Z",
     "iopub.status.busy": "2021-10-19T23:01:12.991963Z",
     "iopub.status.idle": "2021-10-19T23:01:13.010859Z",
     "shell.execute_reply": "2021-10-19T23:01:13.009902Z",
     "shell.execute_reply.started": "2021-10-19T23:01:12.992323Z"
    }
   },
   "outputs": [],
   "source": [
    "hopkins(scale(df), df.shape[0])"
   ]
  },
  {
   "cell_type": "markdown",
   "metadata": {
    "id": "hupFwh2N8AKQ"
   },
   "source": [
    "## Clustering with K-means"
   ]
  },
  {
   "cell_type": "markdown",
   "metadata": {
    "id": "BRWQmu6H8AKQ"
   },
   "source": [
    "### Elbow Method \n",
    "We use this method to find optimal k value by looking up to break point of graph. "
   ]
  },
  {
   "cell_type": "code",
   "execution_count": 283,
   "metadata": {
    "execution": {
     "iopub.execute_input": "2021-10-19T23:01:21.414963Z",
     "iopub.status.busy": "2021-10-19T23:01:21.414681Z",
     "iopub.status.idle": "2021-10-19T23:01:21.737516Z",
     "shell.execute_reply": "2021-10-19T23:01:21.736492Z",
     "shell.execute_reply.started": "2021-10-19T23:01:21.414933Z"
    },
    "id": "bJsKrZaA8AKQ"
   },
   "outputs": [],
   "source": [
    "ssd = []\n",
    "\n",
    "K = range(2,10)\n",
    "\n",
    "for k in K:\n",
    "    model = KMeans(n_clusters =k, random_state=101)\n",
    "    model.fit(X_scaled)\n",
    "    ssd.append(model.inertia_)"
   ]
  },
  {
   "cell_type": "code",
   "execution_count": 284,
   "metadata": {
    "execution": {
     "iopub.execute_input": "2021-10-19T23:01:23.453069Z",
     "iopub.status.busy": "2021-10-19T23:01:23.452787Z",
     "iopub.status.idle": "2021-10-19T23:01:23.716207Z",
     "shell.execute_reply": "2021-10-19T23:01:23.715259Z",
     "shell.execute_reply.started": "2021-10-19T23:01:23.453039Z"
    }
   },
   "outputs": [],
   "source": [
    "plt.plot(K, ssd, \"bo-\")\n",
    "plt.xlabel(\"Different k values\")\n",
    "plt.ylabel(\"inertia-error\") \n",
    "plt.title(\"elbow method\") "
   ]
  },
  {
   "cell_type": "code",
   "execution_count": 285,
   "metadata": {
    "execution": {
     "iopub.execute_input": "2021-10-19T23:01:32.209263Z",
     "iopub.status.busy": "2021-10-19T23:01:32.208940Z",
     "iopub.status.idle": "2021-10-19T23:01:32.216114Z",
     "shell.execute_reply": "2021-10-19T23:01:32.215218Z",
     "shell.execute_reply.started": "2021-10-19T23:01:32.209227Z"
    }
   },
   "outputs": [],
   "source": [
    "ssd # sum of squared distance"
   ]
  },
  {
   "cell_type": "code",
   "execution_count": 286,
   "metadata": {
    "execution": {
     "iopub.execute_input": "2021-10-19T23:01:33.891810Z",
     "iopub.status.busy": "2021-10-19T23:01:33.891504Z",
     "iopub.status.idle": "2021-10-19T23:01:33.904587Z",
     "shell.execute_reply": "2021-10-19T23:01:33.903984Z",
     "shell.execute_reply.started": "2021-10-19T23:01:33.891776Z"
    }
   },
   "outputs": [],
   "source": [
    "pd.Series(ssd).diff()"
   ]
  },
  {
   "cell_type": "code",
   "execution_count": 287,
   "metadata": {
    "execution": {
     "iopub.execute_input": "2021-10-19T23:01:37.296138Z",
     "iopub.status.busy": "2021-10-19T23:01:37.295692Z",
     "iopub.status.idle": "2021-10-19T23:01:37.307874Z",
     "shell.execute_reply": "2021-10-19T23:01:37.306672Z",
     "shell.execute_reply.started": "2021-10-19T23:01:37.296089Z"
    }
   },
   "outputs": [],
   "source": [
    "df1_diff =pd.DataFrame(-pd.Series(ssd).diff()).rename(index = lambda x : x+1)\n",
    "df1_diff"
   ]
  },
  {
   "cell_type": "code",
   "execution_count": 288,
   "metadata": {
    "execution": {
     "iopub.execute_input": "2021-10-19T23:01:40.111741Z",
     "iopub.status.busy": "2021-10-19T23:01:40.111434Z",
     "iopub.status.idle": "2021-10-19T23:01:40.388550Z",
     "shell.execute_reply": "2021-10-19T23:01:40.387658Z",
     "shell.execute_reply.started": "2021-10-19T23:01:40.111706Z"
    }
   },
   "outputs": [],
   "source": [
    "df1_diff.plot(kind='bar')"
   ]
  },
  {
   "cell_type": "code",
   "execution_count": 289,
   "metadata": {
    "execution": {
     "iopub.execute_input": "2021-10-19T23:01:45.595980Z",
     "iopub.status.busy": "2021-10-19T23:01:45.595638Z",
     "iopub.status.idle": "2021-10-19T23:01:46.523397Z",
     "shell.execute_reply": "2021-10-19T23:01:46.522530Z",
     "shell.execute_reply.started": "2021-10-19T23:01:45.595919Z"
    }
   },
   "outputs": [],
   "source": [
    "from yellowbrick.cluster import KElbowVisualizer\n",
    "\n",
    "model_ = KMeans(random_state=101)\n",
    "visualizer = KElbowVisualizer(model_, k=(2,9))\n",
    "\n",
    "visualizer.fit(X_scaled)        # Fit the data to the visualizer\n",
    "visualizer.show();"
   ]
  },
  {
   "cell_type": "markdown",
   "metadata": {},
   "source": [
    "### Silhouette analysis"
   ]
  },
  {
   "cell_type": "code",
   "execution_count": 290,
   "metadata": {
    "execution": {
     "iopub.execute_input": "2021-10-19T23:01:52.106365Z",
     "iopub.status.busy": "2021-10-19T23:01:52.105922Z",
     "iopub.status.idle": "2021-10-19T23:01:52.110592Z",
     "shell.execute_reply": "2021-10-19T23:01:52.109596Z",
     "shell.execute_reply.started": "2021-10-19T23:01:52.106323Z"
    }
   },
   "outputs": [],
   "source": [
    "from sklearn.metrics import silhouette_score"
   ]
  },
  {
   "cell_type": "code",
   "execution_count": 291,
   "metadata": {
    "execution": {
     "iopub.execute_input": "2021-10-19T23:01:53.249516Z",
     "iopub.status.busy": "2021-10-19T23:01:53.248588Z",
     "iopub.status.idle": "2021-10-19T23:01:53.266904Z",
     "shell.execute_reply": "2021-10-19T23:01:53.265753Z",
     "shell.execute_reply.started": "2021-10-19T23:01:53.249459Z"
    }
   },
   "outputs": [],
   "source": [
    "silhouette_score(X_scaled, K_means_model.labels_)"
   ]
  },
  {
   "cell_type": "code",
   "execution_count": 292,
   "metadata": {
    "execution": {
     "iopub.execute_input": "2021-10-19T23:01:56.339324Z",
     "iopub.status.busy": "2021-10-19T23:01:56.339026Z",
     "iopub.status.idle": "2021-10-19T23:01:56.803761Z",
     "shell.execute_reply": "2021-10-19T23:01:56.802827Z",
     "shell.execute_reply.started": "2021-10-19T23:01:56.339292Z"
    }
   },
   "outputs": [],
   "source": [
    "range_n_clusters = range(2,9)\n",
    "for num_clusters in range_n_clusters:\n",
    "    # intialise kmeans\n",
    "    kmeans = KMeans(n_clusters=num_clusters, random_state=101)\n",
    "    kmeans.fit(X_scaled)\n",
    "    cluster_labels = kmeans.labels_\n",
    "    # silhouette score\n",
    "    silhouette_avg = silhouette_score(X_scaled, cluster_labels)\n",
    "    print(f\"For n_clusters={num_clusters}, the silhouette score is {silhouette_avg}\")"
   ]
  },
  {
   "cell_type": "code",
   "execution_count": 293,
   "metadata": {
    "execution": {
     "iopub.execute_input": "2021-10-19T23:02:00.907990Z",
     "iopub.status.busy": "2021-10-19T23:02:00.907681Z",
     "iopub.status.idle": "2021-10-19T23:02:01.245922Z",
     "shell.execute_reply": "2021-10-19T23:02:01.245046Z",
     "shell.execute_reply.started": "2021-10-19T23:02:00.907952Z"
    }
   },
   "outputs": [],
   "source": [
    "from sklearn.cluster import KMeans\n",
    "\n",
    "from yellowbrick.cluster import SilhouetteVisualizer\n",
    "\n",
    "model3 = KMeans(n_clusters=4, random_state=101)\n",
    "visualizer = SilhouetteVisualizer(model3)\n",
    "\n",
    "visualizer.fit(X_scaled)    # Fit the data to the visualizer\n",
    "visualizer.poof();"
   ]
  },
  {
   "cell_type": "markdown",
   "metadata": {
    "id": "mFJFx-Fg8AKR"
   },
   "source": [
    "### Model Building and label visualisation"
   ]
  },
  {
   "cell_type": "code",
   "execution_count": 294,
   "metadata": {
    "execution": {
     "iopub.execute_input": "2021-10-19T23:02:06.254977Z",
     "iopub.status.busy": "2021-10-19T23:02:06.254680Z",
     "iopub.status.idle": "2021-10-19T23:02:06.298109Z",
     "shell.execute_reply": "2021-10-19T23:02:06.297429Z",
     "shell.execute_reply.started": "2021-10-19T23:02:06.254943Z"
    },
    "id": "G0ygI1998AKR"
   },
   "outputs": [],
   "source": [
    "model = KMeans(n_clusters = 4, random_state = 101)\n",
    "model.fit_predict(X_scaled)"
   ]
  },
  {
   "cell_type": "code",
   "execution_count": 295,
   "metadata": {
    "execution": {
     "iopub.execute_input": "2021-10-19T23:02:09.238797Z",
     "iopub.status.busy": "2021-10-19T23:02:09.238367Z",
     "iopub.status.idle": "2021-10-19T23:02:09.244486Z",
     "shell.execute_reply": "2021-10-19T23:02:09.243755Z",
     "shell.execute_reply.started": "2021-10-19T23:02:09.238763Z"
    }
   },
   "outputs": [],
   "source": [
    "model.labels_"
   ]
  },
  {
   "cell_type": "code",
   "execution_count": 296,
   "metadata": {
    "execution": {
     "iopub.execute_input": "2021-10-19T23:02:11.926186Z",
     "iopub.status.busy": "2021-10-19T23:02:11.925834Z",
     "iopub.status.idle": "2021-10-19T23:02:11.966658Z",
     "shell.execute_reply": "2021-10-19T23:02:11.965729Z",
     "shell.execute_reply.started": "2021-10-19T23:02:11.926132Z"
    }
   },
   "outputs": [],
   "source": [
    "X[\"clusters\"] = model.fit_predict(X_scaled)"
   ]
  },
  {
   "cell_type": "code",
   "execution_count": 297,
   "metadata": {
    "execution": {
     "iopub.execute_input": "2021-10-19T23:02:13.776773Z",
     "iopub.status.busy": "2021-10-19T23:02:13.776479Z",
     "iopub.status.idle": "2021-10-19T23:02:13.801313Z",
     "shell.execute_reply": "2021-10-19T23:02:13.799990Z",
     "shell.execute_reply.started": "2021-10-19T23:02:13.776742Z"
    }
   },
   "outputs": [],
   "source": [
    "X.head()"
   ]
  },
  {
   "cell_type": "code",
   "execution_count": 298,
   "metadata": {
    "execution": {
     "iopub.execute_input": "2021-10-19T23:02:16.724523Z",
     "iopub.status.busy": "2021-10-19T23:02:16.723760Z",
     "iopub.status.idle": "2021-10-19T23:02:16.732183Z",
     "shell.execute_reply": "2021-10-19T23:02:16.731394Z",
     "shell.execute_reply.started": "2021-10-19T23:02:16.724475Z"
    }
   },
   "outputs": [],
   "source": [
    "X.clusters.value_counts()"
   ]
  },
  {
   "cell_type": "code",
   "execution_count": 299,
   "metadata": {
    "execution": {
     "iopub.execute_input": "2021-10-19T23:02:21.232482Z",
     "iopub.status.busy": "2021-10-19T23:02:21.232177Z",
     "iopub.status.idle": "2021-10-19T23:02:21.252526Z",
     "shell.execute_reply": "2021-10-19T23:02:21.251672Z",
     "shell.execute_reply.started": "2021-10-19T23:02:21.232448Z"
    }
   },
   "outputs": [],
   "source": [
    "df1.head(1)"
   ]
  },
  {
   "cell_type": "code",
   "execution_count": 300,
   "metadata": {
    "execution": {
     "iopub.execute_input": "2021-10-19T23:02:25.307553Z",
     "iopub.status.busy": "2021-10-19T23:02:25.306984Z",
     "iopub.status.idle": "2021-10-19T23:02:25.347151Z",
     "shell.execute_reply": "2021-10-19T23:02:25.346527Z",
     "shell.execute_reply.started": "2021-10-19T23:02:25.307509Z"
    }
   },
   "outputs": [],
   "source": [
    "df1[\"predicted_clusters\"] = model.fit_predict(X_scaled)"
   ]
  },
  {
   "cell_type": "code",
   "execution_count": 305,
   "metadata": {
    "execution": {
     "iopub.execute_input": "2021-10-19T23:02:35.778293Z",
     "iopub.status.busy": "2021-10-19T23:02:35.777673Z",
     "iopub.status.idle": "2021-10-19T23:02:35.926789Z",
     "shell.execute_reply": "2021-10-19T23:02:35.925853Z",
     "shell.execute_reply.started": "2021-10-19T23:02:35.778252Z"
    },
    "scrolled": true
   },
   "outputs": [],
   "source": [
    "df1[\"predicted_clusters\"].value_counts().plot(kind=\"pie\", startangle=0, labeldistance=1.1, autopct='%1.1f%%',figsize=(10,10));"
   ]
  },
  {
   "cell_type": "code",
   "execution_count": 306,
   "metadata": {
    "execution": {
     "iopub.execute_input": "2021-10-19T23:02:42.256180Z",
     "iopub.status.busy": "2021-10-19T23:02:42.255663Z",
     "iopub.status.idle": "2021-10-19T23:02:42.479272Z",
     "shell.execute_reply": "2021-10-19T23:02:42.478421Z",
     "shell.execute_reply.started": "2021-10-19T23:02:42.256133Z"
    },
    "scrolled": true
   },
   "outputs": [],
   "source": [
    "df1.predicted_clusters.value_counts()\n",
    "\n",
    "sns.countplot(x=df1[\"predicted_clusters\"], data=df1)\n",
    "for index,value in enumerate(df1.predicted_clusters.value_counts().sort_index()):\n",
    "     plt.text(index, value, f\"{value}\", ha=\"center\", va=\"bottom\", fontsize = 13)"
   ]
  },
  {
   "cell_type": "code",
   "execution_count": 307,
   "metadata": {
    "execution": {
     "iopub.execute_input": "2021-10-19T23:02:49.608580Z",
     "iopub.status.busy": "2021-10-19T23:02:49.608260Z",
     "iopub.status.idle": "2021-10-19T23:02:49.624753Z",
     "shell.execute_reply": "2021-10-19T23:02:49.623588Z",
     "shell.execute_reply.started": "2021-10-19T23:02:49.608541Z"
    },
    "scrolled": true
   },
   "outputs": [],
   "source": [
    "df1[df1[\"predicted_clusters\"]==0][[\"country\", \"military_strength_power_index\"]].sort_values(by=\"military_strength_power_index\")"
   ]
  },
  {
   "cell_type": "code",
   "execution_count": 308,
   "metadata": {
    "execution": {
     "iopub.execute_input": "2021-10-19T23:02:52.027975Z",
     "iopub.status.busy": "2021-10-19T23:02:52.027339Z",
     "iopub.status.idle": "2021-10-19T23:02:52.039743Z",
     "shell.execute_reply": "2021-10-19T23:02:52.038721Z",
     "shell.execute_reply.started": "2021-10-19T23:02:52.027939Z"
    }
   },
   "outputs": [],
   "source": [
    "df1[df1[\"predicted_clusters\"]==1][[\"country\", \"military_strength_power_index\"]].sort_values(by=\"military_strength_power_index\")"
   ]
  },
  {
   "cell_type": "code",
   "execution_count": 309,
   "metadata": {
    "execution": {
     "iopub.execute_input": "2021-10-19T23:02:53.176068Z",
     "iopub.status.busy": "2021-10-19T23:02:53.175802Z",
     "iopub.status.idle": "2021-10-19T23:02:53.188016Z",
     "shell.execute_reply": "2021-10-19T23:02:53.187034Z",
     "shell.execute_reply.started": "2021-10-19T23:02:53.176038Z"
    }
   },
   "outputs": [],
   "source": [
    "df1[df1[\"predicted_clusters\"]==2][[\"country\", \"military_strength_power_index\"]].sort_values(by=\"military_strength_power_index\")"
   ]
  },
  {
   "cell_type": "code",
   "execution_count": 310,
   "metadata": {
    "execution": {
     "iopub.execute_input": "2021-10-19T23:02:54.295018Z",
     "iopub.status.busy": "2021-10-19T23:02:54.294314Z",
     "iopub.status.idle": "2021-10-19T23:02:54.308945Z",
     "shell.execute_reply": "2021-10-19T23:02:54.308138Z",
     "shell.execute_reply.started": "2021-10-19T23:02:54.294975Z"
    },
    "scrolled": true
   },
   "outputs": [],
   "source": [
    "df1[df1[\"predicted_clusters\"]==3][[\"country\", \"military_strength_power_index\"]].sort_values(by=\"military_strength_power_index\")"
   ]
  },
  {
   "cell_type": "markdown",
   "metadata": {
    "id": "bj8H_Fmr8AKR"
   },
   "source": [
    "### Evaluate "
   ]
  },
  {
   "cell_type": "code",
   "execution_count": 311,
   "metadata": {
    "execution": {
     "iopub.execute_input": "2021-10-19T23:03:46.078471Z",
     "iopub.status.busy": "2021-10-19T23:03:46.078126Z",
     "iopub.status.idle": "2021-10-19T23:03:46.088636Z",
     "shell.execute_reply": "2021-10-19T23:03:46.087669Z",
     "shell.execute_reply.started": "2021-10-19T23:03:46.078430Z"
    }
   },
   "outputs": [],
   "source": [
    "df1['military_strength_power_index'].describe()"
   ]
  },
  {
   "cell_type": "code",
   "execution_count": 312,
   "metadata": {
    "execution": {
     "iopub.execute_input": "2021-10-19T23:03:49.388199Z",
     "iopub.status.busy": "2021-10-19T23:03:49.387249Z",
     "iopub.status.idle": "2021-10-19T23:03:49.398215Z",
     "shell.execute_reply": "2021-10-19T23:03:49.397521Z",
     "shell.execute_reply.started": "2021-10-19T23:03:49.388091Z"
    }
   },
   "outputs": [],
   "source": [
    "df1['military_strength_power_index'].value_counts().index.sort_values()"
   ]
  },
  {
   "cell_type": "code",
   "execution_count": 313,
   "metadata": {
    "execution": {
     "iopub.execute_input": "2021-10-19T23:03:50.863824Z",
     "iopub.status.busy": "2021-10-19T23:03:50.863398Z",
     "iopub.status.idle": "2021-10-19T23:03:51.811413Z",
     "shell.execute_reply": "2021-10-19T23:03:51.810378Z",
     "shell.execute_reply.started": "2021-10-19T23:03:50.863789Z"
    },
    "scrolled": true
   },
   "outputs": [],
   "source": [
    "df1['military_strength_power_index'].iplot(kind='hist', bins=200)"
   ]
  },
  {
   "cell_type": "code",
   "execution_count": 335,
   "metadata": {
    "execution": {
     "iopub.execute_input": "2021-10-19T23:05:51.259691Z",
     "iopub.status.busy": "2021-10-19T23:05:51.259359Z",
     "iopub.status.idle": "2021-10-19T23:05:51.265006Z",
     "shell.execute_reply": "2021-10-19T23:05:51.264185Z",
     "shell.execute_reply.started": "2021-10-19T23:05:51.259656Z"
    },
    "id": "h_oGrBIS8AKR"
   },
   "outputs": [],
   "source": [
    "def classification(military_strength_power_index):\n",
    "    if military_strength_power_index <= 0.065:\n",
    "        return 1\n",
    "    elif 0.065 < military_strength_power_index <= 0.1:\n",
    "        return 2\n",
    "    elif 0.1 < military_strength_power_index <= 0.5:\n",
    "        return 3\n",
    "    else:\n",
    "        return 0"
   ]
  },
  {
   "cell_type": "code",
   "execution_count": 336,
   "metadata": {
    "execution": {
     "iopub.execute_input": "2021-10-19T23:05:52.356673Z",
     "iopub.status.busy": "2021-10-19T23:05:52.355852Z",
     "iopub.status.idle": "2021-10-19T23:05:52.361704Z",
     "shell.execute_reply": "2021-10-19T23:05:52.360909Z",
     "shell.execute_reply.started": "2021-10-19T23:05:52.356632Z"
    }
   },
   "outputs": [],
   "source": [
    "df1['classification'] = df1['military_strength_power_index'].apply(classification)"
   ]
  },
  {
   "cell_type": "code",
   "execution_count": 337,
   "metadata": {
    "execution": {
     "iopub.execute_input": "2021-10-19T23:05:53.369249Z",
     "iopub.status.busy": "2021-10-19T23:05:53.368817Z",
     "iopub.status.idle": "2021-10-19T23:05:53.389525Z",
     "shell.execute_reply": "2021-10-19T23:05:53.388543Z",
     "shell.execute_reply.started": "2021-10-19T23:05:53.369208Z"
    }
   },
   "outputs": [],
   "source": [
    "df1.head(1)"
   ]
  },
  {
   "cell_type": "code",
   "execution_count": 338,
   "metadata": {
    "execution": {
     "iopub.execute_input": "2021-10-19T23:05:54.178768Z",
     "iopub.status.busy": "2021-10-19T23:05:54.177808Z",
     "iopub.status.idle": "2021-10-19T23:05:54.185512Z",
     "shell.execute_reply": "2021-10-19T23:05:54.184690Z",
     "shell.execute_reply.started": "2021-10-19T23:05:54.178725Z"
    }
   },
   "outputs": [],
   "source": [
    "df1['classification'].value_counts()"
   ]
  },
  {
   "cell_type": "code",
   "execution_count": 339,
   "metadata": {
    "execution": {
     "iopub.execute_input": "2021-10-19T23:05:55.022214Z",
     "iopub.status.busy": "2021-10-19T23:05:55.021256Z",
     "iopub.status.idle": "2021-10-19T23:05:55.165357Z",
     "shell.execute_reply": "2021-10-19T23:05:55.164495Z",
     "shell.execute_reply.started": "2021-10-19T23:05:55.022166Z"
    },
    "scrolled": true
   },
   "outputs": [],
   "source": [
    "df1[\"classification\"].value_counts().plot(kind=\"pie\", startangle=0, labeldistance=1.1, autopct='%1.1f%%',figsize=(10,10));"
   ]
  },
  {
   "cell_type": "code",
   "execution_count": 340,
   "metadata": {
    "execution": {
     "iopub.execute_input": "2021-10-19T23:05:56.141121Z",
     "iopub.status.busy": "2021-10-19T23:05:56.140809Z",
     "iopub.status.idle": "2021-10-19T23:05:56.354230Z",
     "shell.execute_reply": "2021-10-19T23:05:56.353332Z",
     "shell.execute_reply.started": "2021-10-19T23:05:56.141085Z"
    },
    "scrolled": true
   },
   "outputs": [],
   "source": [
    "df1.classification.value_counts()\n",
    "\n",
    "sns.countplot(x=df1[\"classification\"], data=df1)\n",
    "for index,value in enumerate(df1.classification.value_counts().sort_index()):\n",
    "     plt.text(index, value, f\"{value}\", ha=\"center\", va=\"bottom\", fontsize = 13)"
   ]
  },
  {
   "cell_type": "code",
   "execution_count": 341,
   "metadata": {
    "execution": {
     "iopub.execute_input": "2021-10-19T23:05:57.054957Z",
     "iopub.status.busy": "2021-10-19T23:05:57.054270Z",
     "iopub.status.idle": "2021-10-19T23:05:57.069228Z",
     "shell.execute_reply": "2021-10-19T23:05:57.068287Z",
     "shell.execute_reply.started": "2021-10-19T23:05:57.054906Z"
    }
   },
   "outputs": [],
   "source": [
    "df1[df1[\"classification\"]==2][[\"country\", \"military_strength_power_index\"]].sort_values(by=\"military_strength_power_index\")"
   ]
  },
  {
   "cell_type": "code",
   "execution_count": 342,
   "metadata": {
    "execution": {
     "iopub.execute_input": "2021-10-19T23:05:58.678399Z",
     "iopub.status.busy": "2021-10-19T23:05:58.678108Z",
     "iopub.status.idle": "2021-10-19T23:05:58.686832Z",
     "shell.execute_reply": "2021-10-19T23:05:58.685882Z",
     "shell.execute_reply.started": "2021-10-19T23:05:58.678369Z"
    }
   },
   "outputs": [],
   "source": [
    "len(df1[df1[\"classification\"]==2][\"country\"])"
   ]
  },
  {
   "cell_type": "code",
   "execution_count": 343,
   "metadata": {
    "execution": {
     "iopub.execute_input": "2021-10-19T23:06:00.030533Z",
     "iopub.status.busy": "2021-10-19T23:06:00.030252Z",
     "iopub.status.idle": "2021-10-19T23:06:00.044306Z",
     "shell.execute_reply": "2021-10-19T23:06:00.043190Z",
     "shell.execute_reply.started": "2021-10-19T23:06:00.030504Z"
    }
   },
   "outputs": [],
   "source": [
    "df1[df1[\"classification\"]==1][[\"country\", \"military_strength_power_index\"]].sort_values(by=\"military_strength_power_index\")"
   ]
  },
  {
   "cell_type": "code",
   "execution_count": 344,
   "metadata": {
    "execution": {
     "iopub.execute_input": "2021-10-19T23:06:00.985469Z",
     "iopub.status.busy": "2021-10-19T23:06:00.985198Z",
     "iopub.status.idle": "2021-10-19T23:06:00.993476Z",
     "shell.execute_reply": "2021-10-19T23:06:00.992443Z",
     "shell.execute_reply.started": "2021-10-19T23:06:00.985440Z"
    }
   },
   "outputs": [],
   "source": [
    "len(df1[df1[\"classification\"]==1][\"country\"])"
   ]
  },
  {
   "cell_type": "code",
   "execution_count": 345,
   "metadata": {
    "execution": {
     "iopub.execute_input": "2021-10-19T23:06:01.898066Z",
     "iopub.status.busy": "2021-10-19T23:06:01.897784Z",
     "iopub.status.idle": "2021-10-19T23:06:01.915266Z",
     "shell.execute_reply": "2021-10-19T23:06:01.914486Z",
     "shell.execute_reply.started": "2021-10-19T23:06:01.898034Z"
    }
   },
   "outputs": [],
   "source": [
    "df1[df1[\"classification\"]==0][[\"country\", \"military_strength_power_index\"]].sort_values(by=\"military_strength_power_index\")"
   ]
  },
  {
   "cell_type": "code",
   "execution_count": 346,
   "metadata": {
    "execution": {
     "iopub.execute_input": "2021-10-19T23:06:03.216591Z",
     "iopub.status.busy": "2021-10-19T23:06:03.215726Z",
     "iopub.status.idle": "2021-10-19T23:06:03.225038Z",
     "shell.execute_reply": "2021-10-19T23:06:03.224022Z",
     "shell.execute_reply.started": "2021-10-19T23:06:03.216490Z"
    }
   },
   "outputs": [],
   "source": [
    "len(df1[df1[\"classification\"]==0][\"country\"])"
   ]
  },
  {
   "cell_type": "code",
   "execution_count": 347,
   "metadata": {
    "execution": {
     "iopub.execute_input": "2021-10-19T23:06:04.978585Z",
     "iopub.status.busy": "2021-10-19T23:06:04.977774Z",
     "iopub.status.idle": "2021-10-19T23:06:04.994284Z",
     "shell.execute_reply": "2021-10-19T23:06:04.993642Z",
     "shell.execute_reply.started": "2021-10-19T23:06:04.978534Z"
    }
   },
   "outputs": [],
   "source": [
    "df1[df1[\"classification\"]==3][[\"country\", \"military_strength_power_index\"]].sort_values(by=\"military_strength_power_index\")"
   ]
  },
  {
   "cell_type": "code",
   "execution_count": 348,
   "metadata": {
    "execution": {
     "iopub.execute_input": "2021-10-19T23:06:05.965128Z",
     "iopub.status.busy": "2021-10-19T23:06:05.964834Z",
     "iopub.status.idle": "2021-10-19T23:06:05.972893Z",
     "shell.execute_reply": "2021-10-19T23:06:05.972050Z",
     "shell.execute_reply.started": "2021-10-19T23:06:05.965095Z"
    }
   },
   "outputs": [],
   "source": [
    "len(df1[df1[\"classification\"]==3][\"country\"])"
   ]
  },
  {
   "cell_type": "code",
   "execution_count": 349,
   "metadata": {
    "execution": {
     "iopub.execute_input": "2021-10-19T23:06:07.134484Z",
     "iopub.status.busy": "2021-10-19T23:06:07.133841Z",
     "iopub.status.idle": "2021-10-19T23:06:07.139116Z",
     "shell.execute_reply": "2021-10-19T23:06:07.138452Z",
     "shell.execute_reply.started": "2021-10-19T23:06:07.134426Z"
    }
   },
   "outputs": [],
   "source": [
    "from sklearn.metrics import adjusted_rand_score"
   ]
  },
  {
   "cell_type": "code",
   "execution_count": 350,
   "metadata": {
    "execution": {
     "iopub.execute_input": "2021-10-19T23:06:08.066076Z",
     "iopub.status.busy": "2021-10-19T23:06:08.065658Z",
     "iopub.status.idle": "2021-10-19T23:06:08.095110Z",
     "shell.execute_reply": "2021-10-19T23:06:08.094126Z",
     "shell.execute_reply.started": "2021-10-19T23:06:08.066043Z"
    }
   },
   "outputs": [],
   "source": [
    "df1_end = df1\n",
    "df1_end"
   ]
  },
  {
   "cell_type": "code",
   "execution_count": 351,
   "metadata": {
    "execution": {
     "iopub.execute_input": "2021-10-19T23:06:09.127392Z",
     "iopub.status.busy": "2021-10-19T23:06:09.126728Z",
     "iopub.status.idle": "2021-10-19T23:06:09.134075Z",
     "shell.execute_reply": "2021-10-19T23:06:09.133224Z",
     "shell.execute_reply.started": "2021-10-19T23:06:09.127355Z"
    }
   },
   "outputs": [],
   "source": [
    "df1.predicted_clusters.value_counts()"
   ]
  },
  {
   "cell_type": "code",
   "execution_count": 352,
   "metadata": {
    "execution": {
     "iopub.execute_input": "2021-10-19T23:06:10.486028Z",
     "iopub.status.busy": "2021-10-19T23:06:10.485518Z",
     "iopub.status.idle": "2021-10-19T23:06:10.492913Z",
     "shell.execute_reply": "2021-10-19T23:06:10.491922Z",
     "shell.execute_reply.started": "2021-10-19T23:06:10.485948Z"
    }
   },
   "outputs": [],
   "source": [
    "df1.classification.value_counts()"
   ]
  },
  {
   "cell_type": "code",
   "execution_count": 353,
   "metadata": {
    "execution": {
     "iopub.execute_input": "2021-10-19T23:06:12.095311Z",
     "iopub.status.busy": "2021-10-19T23:06:12.095007Z",
     "iopub.status.idle": "2021-10-19T23:06:12.106247Z",
     "shell.execute_reply": "2021-10-19T23:06:12.105481Z",
     "shell.execute_reply.started": "2021-10-19T23:06:12.095279Z"
    }
   },
   "outputs": [],
   "source": [
    "df1[[\"classification\", \"predicted_clusters\"]].value_counts()"
   ]
  },
  {
   "cell_type": "code",
   "execution_count": 354,
   "metadata": {
    "execution": {
     "iopub.execute_input": "2021-10-19T23:06:13.081590Z",
     "iopub.status.busy": "2021-10-19T23:06:13.080930Z",
     "iopub.status.idle": "2021-10-19T23:06:13.094382Z",
     "shell.execute_reply": "2021-10-19T23:06:13.093623Z",
     "shell.execute_reply.started": "2021-10-19T23:06:13.081546Z"
    }
   },
   "outputs": [],
   "source": [
    "df1[[\"country\", \"classification\", \"predicted_clusters\"]]"
   ]
  },
  {
   "cell_type": "code",
   "execution_count": 355,
   "metadata": {
    "execution": {
     "iopub.execute_input": "2021-10-19T23:06:13.949117Z",
     "iopub.status.busy": "2021-10-19T23:06:13.948369Z",
     "iopub.status.idle": "2021-10-19T23:06:13.962221Z",
     "shell.execute_reply": "2021-10-19T23:06:13.961230Z",
     "shell.execute_reply.started": "2021-10-19T23:06:13.949051Z"
    }
   },
   "outputs": [],
   "source": [
    "df1[df1[\"classification\"]!=df1[\"predicted_clusters\"]][[\"country\", \"classification\", \"predicted_clusters\"]]"
   ]
  },
  {
   "cell_type": "markdown",
   "metadata": {
    "id": "eLzoqvfI8AKR"
   },
   "source": [
    "## Hierarchical Clustering"
   ]
  },
  {
   "cell_type": "code",
   "execution_count": 356,
   "metadata": {
    "execution": {
     "iopub.execute_input": "2021-10-19T23:06:30.187405Z",
     "iopub.status.busy": "2021-10-19T23:06:30.186762Z",
     "iopub.status.idle": "2021-10-19T23:06:30.192266Z",
     "shell.execute_reply": "2021-10-19T23:06:30.191313Z",
     "shell.execute_reply.started": "2021-10-19T23:06:30.187362Z"
    },
    "id": "BF5xL3HF8AKS"
   },
   "outputs": [],
   "source": [
    "df2 = df.copy()"
   ]
  },
  {
   "cell_type": "code",
   "execution_count": 357,
   "metadata": {
    "execution": {
     "iopub.execute_input": "2021-10-19T23:06:31.018053Z",
     "iopub.status.busy": "2021-10-19T23:06:31.017189Z",
     "iopub.status.idle": "2021-10-19T23:06:31.045042Z",
     "shell.execute_reply": "2021-10-19T23:06:31.043935Z",
     "shell.execute_reply.started": "2021-10-19T23:06:31.017999Z"
    }
   },
   "outputs": [],
   "source": [
    "df2.head(1)"
   ]
  },
  {
   "cell_type": "code",
   "execution_count": 358,
   "metadata": {
    "execution": {
     "iopub.execute_input": "2021-10-19T23:06:31.793772Z",
     "iopub.status.busy": "2021-10-19T23:06:31.793277Z",
     "iopub.status.idle": "2021-10-19T23:06:31.801073Z",
     "shell.execute_reply": "2021-10-19T23:06:31.800257Z",
     "shell.execute_reply.started": "2021-10-19T23:06:31.793733Z"
    }
   },
   "outputs": [],
   "source": [
    "X_scaled = scale(df2)"
   ]
  },
  {
   "cell_type": "code",
   "execution_count": 359,
   "metadata": {
    "execution": {
     "iopub.execute_input": "2021-10-19T23:06:32.954869Z",
     "iopub.status.busy": "2021-10-19T23:06:32.953989Z",
     "iopub.status.idle": "2021-10-19T23:06:32.979972Z",
     "shell.execute_reply": "2021-10-19T23:06:32.979010Z",
     "shell.execute_reply.started": "2021-10-19T23:06:32.954809Z"
    }
   },
   "outputs": [],
   "source": [
    "pd.DataFrame(X_scaled)"
   ]
  },
  {
   "cell_type": "markdown",
   "metadata": {},
   "source": [
    "### Hopkins Test"
   ]
  },
  {
   "cell_type": "code",
   "execution_count": 360,
   "metadata": {
    "execution": {
     "iopub.execute_input": "2021-10-19T23:06:35.350660Z",
     "iopub.status.busy": "2021-10-19T23:06:35.350219Z",
     "iopub.status.idle": "2021-10-19T23:06:35.363885Z",
     "shell.execute_reply": "2021-10-19T23:06:35.363076Z",
     "shell.execute_reply.started": "2021-10-19T23:06:35.350624Z"
    }
   },
   "outputs": [],
   "source": [
    "hopkins(df2, df2.shape[0])"
   ]
  },
  {
   "cell_type": "code",
   "execution_count": 362,
   "metadata": {
    "execution": {
     "iopub.execute_input": "2021-10-19T23:06:52.603602Z",
     "iopub.status.busy": "2021-10-19T23:06:52.603186Z",
     "iopub.status.idle": "2021-10-19T23:06:52.607532Z",
     "shell.execute_reply": "2021-10-19T23:06:52.606771Z",
     "shell.execute_reply.started": "2021-10-19T23:06:52.603570Z"
    }
   },
   "outputs": [],
   "source": [
    "df21 = df.copy()\n",
    "df22 = df.copy()\n",
    "df23 = df.copy()"
   ]
  },
  {
   "cell_type": "code",
   "execution_count": 363,
   "metadata": {
    "execution": {
     "iopub.execute_input": "2021-10-19T23:06:53.376114Z",
     "iopub.status.busy": "2021-10-19T23:06:53.375688Z",
     "iopub.status.idle": "2021-10-19T23:06:53.392715Z",
     "shell.execute_reply": "2021-10-19T23:06:53.391911Z",
     "shell.execute_reply.started": "2021-10-19T23:06:53.376082Z"
    }
   },
   "outputs": [],
   "source": [
    "hopkins(scale(df21), df21.shape[0])"
   ]
  },
  {
   "cell_type": "code",
   "execution_count": 364,
   "metadata": {
    "execution": {
     "iopub.execute_input": "2021-10-19T23:06:54.127394Z",
     "iopub.status.busy": "2021-10-19T23:06:54.126977Z",
     "iopub.status.idle": "2021-10-19T23:06:54.145174Z",
     "shell.execute_reply": "2021-10-19T23:06:54.144392Z",
     "shell.execute_reply.started": "2021-10-19T23:06:54.127361Z"
    }
   },
   "outputs": [],
   "source": [
    "hopkins(MinMaxScaler().fit_transform(df22), df22.shape[0])"
   ]
  },
  {
   "cell_type": "code",
   "execution_count": 365,
   "metadata": {
    "execution": {
     "iopub.execute_input": "2021-10-19T23:06:55.017814Z",
     "iopub.status.busy": "2021-10-19T23:06:55.017347Z",
     "iopub.status.idle": "2021-10-19T23:06:55.035048Z",
     "shell.execute_reply": "2021-10-19T23:06:55.034294Z",
     "shell.execute_reply.started": "2021-10-19T23:06:55.017779Z"
    }
   },
   "outputs": [],
   "source": [
    "hopkins(StandardScaler().fit_transform(df23), df23.shape[0])"
   ]
  },
  {
   "cell_type": "code",
   "execution_count": 366,
   "metadata": {
    "execution": {
     "iopub.execute_input": "2021-10-19T23:07:00.560019Z",
     "iopub.status.busy": "2021-10-19T23:07:00.559451Z",
     "iopub.status.idle": "2021-10-19T23:07:00.577802Z",
     "shell.execute_reply": "2021-10-19T23:07:00.577008Z",
     "shell.execute_reply.started": "2021-10-19T23:07:00.559980Z"
    }
   },
   "outputs": [],
   "source": [
    "hopkins(scale(df2), df.shape[0])"
   ]
  },
  {
   "cell_type": "markdown",
   "metadata": {
    "id": "hZZd6NX_8AKS"
   },
   "source": [
    "### Dendogram"
   ]
  },
  {
   "cell_type": "code",
   "execution_count": 367,
   "metadata": {
    "execution": {
     "iopub.execute_input": "2021-10-19T23:07:06.331355Z",
     "iopub.status.busy": "2021-10-19T23:07:06.331060Z",
     "iopub.status.idle": "2021-10-19T23:07:06.336099Z",
     "shell.execute_reply": "2021-10-19T23:07:06.335197Z",
     "shell.execute_reply.started": "2021-10-19T23:07:06.331325Z"
    }
   },
   "outputs": [],
   "source": [
    "from scipy.cluster.hierarchy import dendrogram, linkage"
   ]
  },
  {
   "cell_type": "code",
   "execution_count": 368,
   "metadata": {
    "execution": {
     "iopub.execute_input": "2021-10-19T23:07:07.820754Z",
     "iopub.status.busy": "2021-10-19T23:07:07.819829Z",
     "iopub.status.idle": "2021-10-19T23:07:07.829411Z",
     "shell.execute_reply": "2021-10-19T23:07:07.828576Z",
     "shell.execute_reply.started": "2021-10-19T23:07:07.820705Z"
    }
   },
   "outputs": [],
   "source": [
    "hc_ward = linkage(y = df2, method = \"ward\")\n",
    "hc_complete = linkage(df2, \"complete\")\n",
    "hc_average = linkage(df2, \"average\")\n",
    "hc_single = linkage(df2, \"single\")"
   ]
  },
  {
   "cell_type": "code",
   "execution_count": 369,
   "metadata": {
    "execution": {
     "iopub.execute_input": "2021-10-19T23:07:11.244062Z",
     "iopub.status.busy": "2021-10-19T23:07:11.243788Z",
     "iopub.status.idle": "2021-10-19T23:07:15.048605Z",
     "shell.execute_reply": "2021-10-19T23:07:15.047815Z",
     "shell.execute_reply.started": "2021-10-19T23:07:11.244031Z"
    },
    "scrolled": true
   },
   "outputs": [],
   "source": [
    "plt.figure(figsize = (14,7))\n",
    "dendrogram(hc_ward, leaf_font_size = 10);"
   ]
  },
  {
   "cell_type": "code",
   "execution_count": 370,
   "metadata": {
    "execution": {
     "iopub.execute_input": "2021-10-19T23:07:20.906939Z",
     "iopub.status.busy": "2021-10-19T23:07:20.906629Z",
     "iopub.status.idle": "2021-10-19T23:07:21.754005Z",
     "shell.execute_reply": "2021-10-19T23:07:21.753033Z",
     "shell.execute_reply.started": "2021-10-19T23:07:20.906906Z"
    },
    "scrolled": true
   },
   "outputs": [],
   "source": [
    "plt.figure(figsize = (14,7))\n",
    "dendrogram(hc_ward,\n",
    "           truncate_mode = \"lastp\",\n",
    "           p = 10,\n",
    "           show_contracted = True,\n",
    "           leaf_font_size = 10);"
   ]
  },
  {
   "cell_type": "code",
   "execution_count": 371,
   "metadata": {
    "execution": {
     "iopub.execute_input": "2021-10-19T23:07:25.904198Z",
     "iopub.status.busy": "2021-10-19T23:07:25.903879Z",
     "iopub.status.idle": "2021-10-19T23:07:29.204199Z",
     "shell.execute_reply": "2021-10-19T23:07:29.203345Z",
     "shell.execute_reply.started": "2021-10-19T23:07:25.904140Z"
    },
    "scrolled": true
   },
   "outputs": [],
   "source": [
    "plt.figure(figsize = (20,12))\n",
    "\n",
    "plt.subplot(221)\n",
    "plt.title(\"Ward\")\n",
    "plt.xlabel(\"Observations\")\n",
    "plt.ylabel(\"Distance\")\n",
    "dendrogram(hc_ward, truncate_mode = \"lastp\", p = 10, show_contracted = True, leaf_font_size = 10)\n",
    "\n",
    "plt.subplot(222)\n",
    "plt.title(\"Complete\")\n",
    "plt.xlabel(\"Observations\")\n",
    "plt.ylabel(\"Distance\")\n",
    "dendrogram(hc_complete, truncate_mode = \"lastp\", p = 10, show_contracted = True, leaf_font_size = 10)\n",
    "\n",
    "plt.subplot(223)\n",
    "plt.title(\"Average\")\n",
    "plt.xlabel(\"Observations\")\n",
    "plt.ylabel(\"Distance\")\n",
    "dendrogram(hc_average, truncate_mode = \"lastp\", p = 10, show_contracted = True, leaf_font_size = 10)\n",
    "\n",
    "plt.subplot(224)\n",
    "plt.title(\"Single\")\n",
    "plt.xlabel(\"Observations\")\n",
    "plt.ylabel(\"Distance\")\n",
    "dendrogram(hc_single, truncate_mode = \"lastp\", p = 10, show_contracted = True, leaf_font_size = 10);"
   ]
  },
  {
   "cell_type": "code",
   "execution_count": 372,
   "metadata": {
    "execution": {
     "iopub.execute_input": "2021-10-19T23:07:38.251210Z",
     "iopub.status.busy": "2021-10-19T23:07:38.250609Z",
     "iopub.status.idle": "2021-10-19T23:07:39.683937Z",
     "shell.execute_reply": "2021-10-19T23:07:39.683092Z",
     "shell.execute_reply.started": "2021-10-19T23:07:38.251137Z"
    },
    "scrolled": true
   },
   "outputs": [],
   "source": [
    "sns.clustermap(df2);"
   ]
  },
  {
   "cell_type": "code",
   "execution_count": 373,
   "metadata": {
    "execution": {
     "iopub.execute_input": "2021-10-19T23:08:03.163242Z",
     "iopub.status.busy": "2021-10-19T23:08:03.162618Z",
     "iopub.status.idle": "2021-10-19T23:08:04.542381Z",
     "shell.execute_reply": "2021-10-19T23:08:04.541772Z",
     "shell.execute_reply.started": "2021-10-19T23:08:03.163192Z"
    },
    "scrolled": true
   },
   "outputs": [],
   "source": [
    "sns.clustermap(df2, col_cluster=False);"
   ]
  },
  {
   "cell_type": "code",
   "execution_count": 374,
   "metadata": {
    "execution": {
     "iopub.execute_input": "2021-10-19T23:08:06.476104Z",
     "iopub.status.busy": "2021-10-19T23:08:06.475808Z",
     "iopub.status.idle": "2021-10-19T23:08:07.856563Z",
     "shell.execute_reply": "2021-10-19T23:08:07.855724Z",
     "shell.execute_reply.started": "2021-10-19T23:08:06.476069Z"
    },
    "scrolled": true
   },
   "outputs": [],
   "source": [
    "sns.clustermap(df2, row_cluster=False);"
   ]
  },
  {
   "cell_type": "markdown",
   "metadata": {
    "id": "nOhjvMZN8AKS"
   },
   "source": [
    "### Model Building and label visualisation"
   ]
  },
  {
   "cell_type": "code",
   "execution_count": 375,
   "metadata": {
    "execution": {
     "iopub.execute_input": "2021-10-19T23:08:12.898696Z",
     "iopub.status.busy": "2021-10-19T23:08:12.898406Z",
     "iopub.status.idle": "2021-10-19T23:08:12.902424Z",
     "shell.execute_reply": "2021-10-19T23:08:12.901636Z",
     "shell.execute_reply.started": "2021-10-19T23:08:12.898662Z"
    },
    "id": "-OmyaWc_8AKS"
   },
   "outputs": [],
   "source": [
    "from sklearn.cluster import AgglomerativeClustering"
   ]
  },
  {
   "cell_type": "markdown",
   "metadata": {},
   "source": [
    "### S(Silhouette) Score"
   ]
  },
  {
   "cell_type": "code",
   "execution_count": 376,
   "metadata": {
    "execution": {
     "iopub.execute_input": "2021-10-19T23:08:14.700281Z",
     "iopub.status.busy": "2021-10-19T23:08:14.699959Z",
     "iopub.status.idle": "2021-10-19T23:08:14.704630Z",
     "shell.execute_reply": "2021-10-19T23:08:14.703593Z",
     "shell.execute_reply.started": "2021-10-19T23:08:14.700242Z"
    }
   },
   "outputs": [],
   "source": [
    "from sklearn.metrics import silhouette_score"
   ]
  },
  {
   "cell_type": "code",
   "execution_count": 377,
   "metadata": {
    "execution": {
     "iopub.execute_input": "2021-10-19T23:08:16.379066Z",
     "iopub.status.busy": "2021-10-19T23:08:16.378763Z",
     "iopub.status.idle": "2021-10-19T23:08:16.436232Z",
     "shell.execute_reply": "2021-10-19T23:08:16.435243Z",
     "shell.execute_reply.started": "2021-10-19T23:08:16.379032Z"
    }
   },
   "outputs": [],
   "source": [
    "K = range(2,10)\n",
    "\n",
    "for k in K:\n",
    "    model_labels = AgglomerativeClustering(n_clusters = k,  \n",
    "                                    affinity='euclidean', \n",
    "                                    linkage='ward').fit_predict(X_scaled)\n",
    "    print(f'Silhouette Score for {k} clusters: {silhouette_score(X_scaled, model_labels)}')"
   ]
  },
  {
   "cell_type": "code",
   "execution_count": 378,
   "metadata": {
    "execution": {
     "iopub.execute_input": "2021-10-19T23:08:17.813377Z",
     "iopub.status.busy": "2021-10-19T23:08:17.813106Z",
     "iopub.status.idle": "2021-10-19T23:08:17.817575Z",
     "shell.execute_reply": "2021-10-19T23:08:17.816590Z",
     "shell.execute_reply.started": "2021-10-19T23:08:17.813348Z"
    }
   },
   "outputs": [],
   "source": [
    "model = AgglomerativeClustering(n_clusters = 5,\n",
    "                                affinity='euclidean',\n",
    "                                linkage='ward')"
   ]
  },
  {
   "cell_type": "code",
   "execution_count": 379,
   "metadata": {
    "execution": {
     "iopub.execute_input": "2021-10-19T23:08:19.142140Z",
     "iopub.status.busy": "2021-10-19T23:08:19.141703Z",
     "iopub.status.idle": "2021-10-19T23:08:19.147573Z",
     "shell.execute_reply": "2021-10-19T23:08:19.146723Z",
     "shell.execute_reply.started": "2021-10-19T23:08:19.142105Z"
    }
   },
   "outputs": [],
   "source": [
    "clusters = model.fit_predict(X_scaled)"
   ]
  },
  {
   "cell_type": "code",
   "execution_count": 380,
   "metadata": {
    "execution": {
     "iopub.execute_input": "2021-10-19T23:08:20.300665Z",
     "iopub.status.busy": "2021-10-19T23:08:20.300387Z",
     "iopub.status.idle": "2021-10-19T23:08:20.533120Z",
     "shell.execute_reply": "2021-10-19T23:08:20.532187Z",
     "shell.execute_reply.started": "2021-10-19T23:08:20.300636Z"
    }
   },
   "outputs": [],
   "source": [
    "plt.scatter(df2.iloc[:,0], df2.iloc[:,1], c = clusters, cmap = \"viridis\")"
   ]
  },
  {
   "cell_type": "code",
   "execution_count": 382,
   "metadata": {
    "execution": {
     "iopub.execute_input": "2021-10-19T23:08:53.002987Z",
     "iopub.status.busy": "2021-10-19T23:08:53.002250Z",
     "iopub.status.idle": "2021-10-19T23:08:54.927125Z",
     "shell.execute_reply": "2021-10-19T23:08:54.926130Z",
     "shell.execute_reply.started": "2021-10-19T23:08:53.002941Z"
    }
   },
   "outputs": [],
   "source": [
    "plt.figure(figsize = (20,60))\n",
    "\n",
    "plt.subplot(9,3,1)\n",
    "plt.title(\"Original\")\n",
    "plt.scatter(df2.iloc[:,0], df2.iloc[:,1], c = clusters, cmap = \"viridis\");\n",
    "plt.subplot(9,3,2)\n",
    "plt.title(\"Original\")\n",
    "plt.scatter(df2.iloc[:,0], df2.iloc[:,2], c = clusters, cmap = \"viridis\");\n",
    "plt.subplot(9,3,3)\n",
    "plt.title(\"Original\")\n",
    "plt.scatter(df2.iloc[:,0], df2.iloc[:,3], c = clusters, cmap = \"viridis\");\n",
    "plt.subplot(9,3,4)\n",
    "plt.title(\"Original\")\n",
    "plt.scatter(df2.iloc[:,0], df2.iloc[:,4], c = clusters, cmap = \"viridis\");\n",
    "plt.subplot(9,3,5)\n",
    "plt.title(\"Original\")\n",
    "plt.scatter(df2.iloc[:,0], df2.iloc[:,5], c = clusters, cmap = \"viridis\");\n",
    "plt.subplot(9,3,6)\n",
    "plt.title(\"Original\")\n",
    "plt.scatter(df2.iloc[:,0], df2.iloc[:,6], c = clusters, cmap = \"viridis\");\n",
    "plt.subplot(9,3,7)\n",
    "plt.title(\"Original\")\n",
    "plt.scatter(df2.iloc[:,0], df2.iloc[:,7], c = clusters, cmap = \"viridis\");\n",
    "plt.subplot(9,3,8)\n",
    "plt.title(\"Original\")\n",
    "plt.scatter(df2.iloc[:,0], df2.iloc[:,8], c = clusters, cmap = \"viridis\");\n",
    "plt.subplot(9,3,9)\n",
    "plt.title(\"Original\")\n",
    "plt.scatter(df2.iloc[:,0], df2.iloc[:,9], c = clusters, cmap = \"viridis\");\n",
    "plt.subplot(9,3,10)\n",
    "plt.title(\"Original\")\n",
    "plt.scatter(df2.iloc[:,0], df2.iloc[:,10], c = clusters, cmap = \"viridis\");\n",
    "plt.subplot(9,3,11)\n",
    "plt.title(\"Original\")\n",
    "plt.scatter(df2.iloc[:,0], df2.iloc[:,11], c = clusters, cmap = \"viridis\");\n",
    "plt.subplot(9,3,12)\n",
    "plt.title(\"Original\")\n",
    "plt.scatter(df2.iloc[:,0], df2.iloc[:,12], c = clusters, cmap = \"viridis\");"
   ]
  },
  {
   "cell_type": "code",
   "execution_count": 383,
   "metadata": {
    "execution": {
     "iopub.execute_input": "2021-10-19T23:09:01.686625Z",
     "iopub.status.busy": "2021-10-19T23:09:01.686340Z",
     "iopub.status.idle": "2021-10-19T23:09:01.691197Z",
     "shell.execute_reply": "2021-10-19T23:09:01.690575Z",
     "shell.execute_reply.started": "2021-10-19T23:09:01.686587Z"
    }
   },
   "outputs": [],
   "source": [
    "df2[\"predicted_clusters_hc\"] = clusters"
   ]
  },
  {
   "cell_type": "code",
   "execution_count": 384,
   "metadata": {
    "execution": {
     "iopub.execute_input": "2021-10-19T23:09:03.930312Z",
     "iopub.status.busy": "2021-10-19T23:09:03.929789Z",
     "iopub.status.idle": "2021-10-19T23:09:03.954262Z",
     "shell.execute_reply": "2021-10-19T23:09:03.953360Z",
     "shell.execute_reply.started": "2021-10-19T23:09:03.930270Z"
    }
   },
   "outputs": [],
   "source": [
    "df2.head()"
   ]
  },
  {
   "cell_type": "code",
   "execution_count": 385,
   "metadata": {
    "execution": {
     "iopub.execute_input": "2021-10-19T23:09:07.427191Z",
     "iopub.status.busy": "2021-10-19T23:09:07.426736Z",
     "iopub.status.idle": "2021-10-19T23:09:07.456571Z",
     "shell.execute_reply": "2021-10-19T23:09:07.455487Z",
     "shell.execute_reply.started": "2021-10-19T23:09:07.427137Z"
    }
   },
   "outputs": [],
   "source": [
    "df2.groupby(\"predicted_clusters_hc\").mean()"
   ]
  },
  {
   "cell_type": "code",
   "execution_count": 386,
   "metadata": {
    "execution": {
     "iopub.execute_input": "2021-10-19T23:09:11.121851Z",
     "iopub.status.busy": "2021-10-19T23:09:11.121577Z",
     "iopub.status.idle": "2021-10-19T23:09:11.130272Z",
     "shell.execute_reply": "2021-10-19T23:09:11.129393Z",
     "shell.execute_reply.started": "2021-10-19T23:09:11.121821Z"
    }
   },
   "outputs": [],
   "source": [
    "df2.predicted_clusters_hc.value_counts()"
   ]
  },
  {
   "cell_type": "code",
   "execution_count": 387,
   "metadata": {
    "execution": {
     "iopub.execute_input": "2021-10-19T23:09:23.088387Z",
     "iopub.status.busy": "2021-10-19T23:09:23.088074Z",
     "iopub.status.idle": "2021-10-19T23:09:23.095606Z",
     "shell.execute_reply": "2021-10-19T23:09:23.094883Z",
     "shell.execute_reply.started": "2021-10-19T23:09:23.088352Z"
    }
   },
   "outputs": [],
   "source": [
    "df2[df2[\"predicted_clusters_hc\"]==0].index"
   ]
  },
  {
   "cell_type": "code",
   "execution_count": 388,
   "metadata": {
    "execution": {
     "iopub.execute_input": "2021-10-19T23:09:24.263261Z",
     "iopub.status.busy": "2021-10-19T23:09:24.262665Z",
     "iopub.status.idle": "2021-10-19T23:09:24.271476Z",
     "shell.execute_reply": "2021-10-19T23:09:24.270512Z",
     "shell.execute_reply.started": "2021-10-19T23:09:24.263215Z"
    }
   },
   "outputs": [],
   "source": [
    "df2[df2[\"predicted_clusters_hc\"]==1].index"
   ]
  },
  {
   "cell_type": "code",
   "execution_count": 389,
   "metadata": {
    "execution": {
     "iopub.execute_input": "2021-10-19T23:09:25.198851Z",
     "iopub.status.busy": "2021-10-19T23:09:25.198561Z",
     "iopub.status.idle": "2021-10-19T23:09:25.206046Z",
     "shell.execute_reply": "2021-10-19T23:09:25.205239Z",
     "shell.execute_reply.started": "2021-10-19T23:09:25.198822Z"
    }
   },
   "outputs": [],
   "source": [
    "df2[df2[\"predicted_clusters_hc\"]==2].index"
   ]
  },
  {
   "cell_type": "code",
   "execution_count": 390,
   "metadata": {
    "execution": {
     "iopub.execute_input": "2021-10-19T23:09:26.234576Z",
     "iopub.status.busy": "2021-10-19T23:09:26.234283Z",
     "iopub.status.idle": "2021-10-19T23:09:26.242045Z",
     "shell.execute_reply": "2021-10-19T23:09:26.241235Z",
     "shell.execute_reply.started": "2021-10-19T23:09:26.234545Z"
    }
   },
   "outputs": [],
   "source": [
    "df2[df2[\"predicted_clusters_hc\"]==3].index"
   ]
  },
  {
   "cell_type": "code",
   "execution_count": 391,
   "metadata": {
    "execution": {
     "iopub.execute_input": "2021-10-19T23:09:28.949026Z",
     "iopub.status.busy": "2021-10-19T23:09:28.948622Z",
     "iopub.status.idle": "2021-10-19T23:09:28.957267Z",
     "shell.execute_reply": "2021-10-19T23:09:28.956383Z",
     "shell.execute_reply.started": "2021-10-19T23:09:28.948994Z"
    }
   },
   "outputs": [],
   "source": [
    "df2[df2[\"predicted_clusters_hc\"]==4].index"
   ]
  },
  {
   "cell_type": "markdown",
   "metadata": {
    "id": "GMdiayVk8AKT"
   },
   "source": [
    "### Evaluate "
   ]
  },
  {
   "cell_type": "code",
   "execution_count": 405,
   "metadata": {
    "execution": {
     "iopub.execute_input": "2021-10-19T23:12:01.998729Z",
     "iopub.status.busy": "2021-10-19T23:12:01.998441Z",
     "iopub.status.idle": "2021-10-19T23:12:02.005092Z",
     "shell.execute_reply": "2021-10-19T23:12:02.004366Z",
     "shell.execute_reply.started": "2021-10-19T23:12:01.998698Z"
    }
   },
   "outputs": [],
   "source": [
    "df2[\"military_power\"] = df2[\"predicted_clusters_hc\"].map({  0 : \"low\",\n",
    "                                                            1 : \"medium\",\n",
    "                                                            2 : \"most_powerfull\",\n",
    "                                                            3 : \"powerfull\",\n",
    "                                                            4 : \"weak\",\n",
    "                                                         })"
   ]
  },
  {
   "cell_type": "code",
   "execution_count": 406,
   "metadata": {
    "execution": {
     "iopub.execute_input": "2021-10-19T23:12:02.734406Z",
     "iopub.status.busy": "2021-10-19T23:12:02.733755Z",
     "iopub.status.idle": "2021-10-19T23:12:02.752777Z",
     "shell.execute_reply": "2021-10-19T23:12:02.751729Z",
     "shell.execute_reply.started": "2021-10-19T23:12:02.734370Z"
    }
   },
   "outputs": [],
   "source": [
    "df2.head(1)"
   ]
  },
  {
   "cell_type": "code",
   "execution_count": 407,
   "metadata": {
    "execution": {
     "iopub.execute_input": "2021-10-19T23:12:03.356671Z",
     "iopub.status.busy": "2021-10-19T23:12:03.355694Z",
     "iopub.status.idle": "2021-10-19T23:12:03.362082Z",
     "shell.execute_reply": "2021-10-19T23:12:03.361338Z",
     "shell.execute_reply.started": "2021-10-19T23:12:03.356612Z"
    }
   },
   "outputs": [],
   "source": [
    "df2.reset_index(inplace=True)"
   ]
  },
  {
   "cell_type": "code",
   "execution_count": 408,
   "metadata": {
    "execution": {
     "iopub.execute_input": "2021-10-19T23:12:04.126581Z",
     "iopub.status.busy": "2021-10-19T23:12:04.126278Z",
     "iopub.status.idle": "2021-10-19T23:12:04.270973Z",
     "shell.execute_reply": "2021-10-19T23:12:04.270139Z",
     "shell.execute_reply.started": "2021-10-19T23:12:04.126548Z"
    }
   },
   "outputs": [],
   "source": [
    "df2[\"predicted_clusters_hc\"].value_counts().plot(kind=\"pie\", startangle=0, labeldistance=1.1, autopct='%1.1f%%',figsize=(10,10));"
   ]
  },
  {
   "cell_type": "code",
   "execution_count": 409,
   "metadata": {
    "execution": {
     "iopub.execute_input": "2021-10-19T23:12:05.047477Z",
     "iopub.status.busy": "2021-10-19T23:12:05.047171Z",
     "iopub.status.idle": "2021-10-19T23:12:05.054842Z",
     "shell.execute_reply": "2021-10-19T23:12:05.054222Z",
     "shell.execute_reply.started": "2021-10-19T23:12:05.047442Z"
    }
   },
   "outputs": [],
   "source": [
    "df2.predicted_clusters_hc.value_counts()"
   ]
  },
  {
   "cell_type": "code",
   "execution_count": 410,
   "metadata": {
    "execution": {
     "iopub.execute_input": "2021-10-19T23:12:06.692749Z",
     "iopub.status.busy": "2021-10-19T23:12:06.691891Z",
     "iopub.status.idle": "2021-10-19T23:12:06.932634Z",
     "shell.execute_reply": "2021-10-19T23:12:06.931506Z",
     "shell.execute_reply.started": "2021-10-19T23:12:06.692707Z"
    }
   },
   "outputs": [],
   "source": [
    "df2.predicted_clusters_hc.value_counts()\n",
    "\n",
    "sns.countplot(x=df2[\"predicted_clusters_hc\"], data=df2)\n",
    "for index,value in enumerate(df2.predicted_clusters_hc.value_counts().sort_index()):\n",
    "     plt.text(index, value, f\"{value}\", ha=\"center\", va=\"bottom\", fontsize = 13)"
   ]
  },
  {
   "cell_type": "code",
   "execution_count": 411,
   "metadata": {
    "execution": {
     "iopub.execute_input": "2021-10-19T23:12:16.389488Z",
     "iopub.status.busy": "2021-10-19T23:12:16.389189Z",
     "iopub.status.idle": "2021-10-19T23:12:16.400464Z",
     "shell.execute_reply": "2021-10-19T23:12:16.399718Z",
     "shell.execute_reply.started": "2021-10-19T23:12:16.389454Z"
    }
   },
   "outputs": [],
   "source": [
    "df2.groupby(\"predicted_clusters_hc\")[\"country\"].unique()"
   ]
  },
  {
   "cell_type": "code",
   "execution_count": 412,
   "metadata": {
    "execution": {
     "iopub.execute_input": "2021-10-19T23:12:20.136290Z",
     "iopub.status.busy": "2021-10-19T23:12:20.135975Z",
     "iopub.status.idle": "2021-10-19T23:12:20.144860Z",
     "shell.execute_reply": "2021-10-19T23:12:20.144090Z",
     "shell.execute_reply.started": "2021-10-19T23:12:20.136257Z"
    }
   },
   "outputs": [],
   "source": [
    "df2[\"military_power\"].value_counts()"
   ]
  },
  {
   "cell_type": "code",
   "execution_count": 414,
   "metadata": {
    "execution": {
     "iopub.execute_input": "2021-10-19T23:12:35.041386Z",
     "iopub.status.busy": "2021-10-19T23:12:35.041083Z",
     "iopub.status.idle": "2021-10-19T23:12:35.050995Z",
     "shell.execute_reply": "2021-10-19T23:12:35.049851Z",
     "shell.execute_reply.started": "2021-10-19T23:12:35.041353Z"
    }
   },
   "outputs": [],
   "source": [
    "df2.groupby(\"military_power\")[\"country\"].unique()[\"weak\"]"
   ]
  },
  {
   "cell_type": "code",
   "execution_count": 415,
   "metadata": {
    "execution": {
     "iopub.execute_input": "2021-10-19T23:12:36.419651Z",
     "iopub.status.busy": "2021-10-19T23:12:36.419342Z",
     "iopub.status.idle": "2021-10-19T23:12:36.429041Z",
     "shell.execute_reply": "2021-10-19T23:12:36.428124Z",
     "shell.execute_reply.started": "2021-10-19T23:12:36.419616Z"
    }
   },
   "outputs": [],
   "source": [
    "df2.groupby(\"military_power\")[\"country\"].unique()[\"low\"]"
   ]
  },
  {
   "cell_type": "code",
   "execution_count": 416,
   "metadata": {
    "execution": {
     "iopub.execute_input": "2021-10-19T23:12:37.877321Z",
     "iopub.status.busy": "2021-10-19T23:12:37.876980Z",
     "iopub.status.idle": "2021-10-19T23:12:37.887203Z",
     "shell.execute_reply": "2021-10-19T23:12:37.886181Z",
     "shell.execute_reply.started": "2021-10-19T23:12:37.877279Z"
    },
    "id": "AyWIsy3P8AKT"
   },
   "outputs": [],
   "source": [
    "df2.groupby(\"military_power\")[\"country\"].unique()[\"medium\"]"
   ]
  },
  {
   "cell_type": "code",
   "execution_count": 417,
   "metadata": {
    "execution": {
     "iopub.execute_input": "2021-10-19T23:12:39.466606Z",
     "iopub.status.busy": "2021-10-19T23:12:39.466323Z",
     "iopub.status.idle": "2021-10-19T23:12:39.475723Z",
     "shell.execute_reply": "2021-10-19T23:12:39.474749Z",
     "shell.execute_reply.started": "2021-10-19T23:12:39.466575Z"
    }
   },
   "outputs": [],
   "source": [
    "df2.groupby(\"military_power\")[\"country\"].unique()[\"powerfull\"]"
   ]
  },
  {
   "cell_type": "code",
   "execution_count": 418,
   "metadata": {
    "execution": {
     "iopub.execute_input": "2021-10-19T23:12:41.507052Z",
     "iopub.status.busy": "2021-10-19T23:12:41.506288Z",
     "iopub.status.idle": "2021-10-19T23:12:41.516185Z",
     "shell.execute_reply": "2021-10-19T23:12:41.515243Z",
     "shell.execute_reply.started": "2021-10-19T23:12:41.506995Z"
    }
   },
   "outputs": [],
   "source": [
    "df2.groupby(\"military_power\")[\"country\"].unique()[\"most_powerfull\"]"
   ]
  },
  {
   "cell_type": "code",
   "execution_count": null,
   "metadata": {},
   "outputs": [],
   "source": []
  },
  {
   "cell_type": "code",
   "execution_count": 419,
   "metadata": {
    "execution": {
     "iopub.execute_input": "2021-10-19T23:12:45.007869Z",
     "iopub.status.busy": "2021-10-19T23:12:45.007472Z",
     "iopub.status.idle": "2021-10-19T23:12:45.065213Z",
     "shell.execute_reply": "2021-10-19T23:12:45.064358Z",
     "shell.execute_reply.started": "2021-10-19T23:12:45.007837Z"
    }
   },
   "outputs": [],
   "source": [
    "df1['military_strength_power_index'].iplot(kind='hist', bins=200)"
   ]
  },
  {
   "cell_type": "code",
   "execution_count": 420,
   "metadata": {
    "execution": {
     "iopub.execute_input": "2021-10-19T23:13:03.654259Z",
     "iopub.status.busy": "2021-10-19T23:13:03.653945Z",
     "iopub.status.idle": "2021-10-19T23:13:03.660499Z",
     "shell.execute_reply": "2021-10-19T23:13:03.659421Z",
     "shell.execute_reply.started": "2021-10-19T23:13:03.654225Z"
    }
   },
   "outputs": [],
   "source": [
    "def classification1(military_strength_power_index):\n",
    "    if military_strength_power_index <= 0.065:\n",
    "        return \"most_powerfull\"\n",
    "    elif 0.065 < military_strength_power_index <= 0.070:\n",
    "        return \"powerfull\"\n",
    "    elif 0.070 < military_strength_power_index <= 0.1:\n",
    "        return \"medium\"\n",
    "    elif 0.1 < military_strength_power_index <= 0.85:\n",
    "        return \"low\"\n",
    "    else:\n",
    "        return \"weak\""
   ]
  },
  {
   "cell_type": "code",
   "execution_count": 421,
   "metadata": {
    "execution": {
     "iopub.execute_input": "2021-10-19T23:13:04.824507Z",
     "iopub.status.busy": "2021-10-19T23:13:04.824065Z",
     "iopub.status.idle": "2021-10-19T23:13:04.832399Z",
     "shell.execute_reply": "2021-10-19T23:13:04.831609Z",
     "shell.execute_reply.started": "2021-10-19T23:13:04.824473Z"
    }
   },
   "outputs": [],
   "source": [
    "df.military_strength_power_index.sort_values()"
   ]
  },
  {
   "cell_type": "code",
   "execution_count": 422,
   "metadata": {
    "execution": {
     "iopub.execute_input": "2021-10-19T23:13:06.418868Z",
     "iopub.status.busy": "2021-10-19T23:13:06.418452Z",
     "iopub.status.idle": "2021-10-19T23:13:06.423428Z",
     "shell.execute_reply": "2021-10-19T23:13:06.422656Z",
     "shell.execute_reply.started": "2021-10-19T23:13:06.418834Z"
    }
   },
   "outputs": [],
   "source": [
    "df2['classification'] = df2['military_strength_power_index'].apply(classification1)"
   ]
  },
  {
   "cell_type": "code",
   "execution_count": 423,
   "metadata": {
    "execution": {
     "iopub.execute_input": "2021-10-19T23:13:08.751747Z",
     "iopub.status.busy": "2021-10-19T23:13:08.751306Z",
     "iopub.status.idle": "2021-10-19T23:13:08.758793Z",
     "shell.execute_reply": "2021-10-19T23:13:08.758063Z",
     "shell.execute_reply.started": "2021-10-19T23:13:08.751712Z"
    }
   },
   "outputs": [],
   "source": [
    "df2['classification'].value_counts()"
   ]
  },
  {
   "cell_type": "code",
   "execution_count": 424,
   "metadata": {
    "execution": {
     "iopub.execute_input": "2021-10-19T23:13:10.954409Z",
     "iopub.status.busy": "2021-10-19T23:13:10.953935Z",
     "iopub.status.idle": "2021-10-19T23:13:10.962139Z",
     "shell.execute_reply": "2021-10-19T23:13:10.961226Z",
     "shell.execute_reply.started": "2021-10-19T23:13:10.954370Z"
    }
   },
   "outputs": [],
   "source": [
    "df2['military_power'].value_counts()"
   ]
  },
  {
   "cell_type": "code",
   "execution_count": 425,
   "metadata": {
    "execution": {
     "iopub.execute_input": "2021-10-19T23:13:12.325376Z",
     "iopub.status.busy": "2021-10-19T23:13:12.324643Z",
     "iopub.status.idle": "2021-10-19T23:13:12.475095Z",
     "shell.execute_reply": "2021-10-19T23:13:12.474098Z",
     "shell.execute_reply.started": "2021-10-19T23:13:12.325336Z"
    }
   },
   "outputs": [],
   "source": [
    "df2[\"classification\"].value_counts().plot(kind=\"pie\", startangle=0, labeldistance=1.1, autopct='%1.1f%%',figsize=(10,10));"
   ]
  },
  {
   "cell_type": "code",
   "execution_count": 426,
   "metadata": {
    "execution": {
     "iopub.execute_input": "2021-10-19T23:13:14.060747Z",
     "iopub.status.busy": "2021-10-19T23:13:14.060475Z",
     "iopub.status.idle": "2021-10-19T23:13:14.069127Z",
     "shell.execute_reply": "2021-10-19T23:13:14.068366Z",
     "shell.execute_reply.started": "2021-10-19T23:13:14.060718Z"
    }
   },
   "outputs": [],
   "source": [
    "df2.classification.value_counts()"
   ]
  },
  {
   "cell_type": "code",
   "execution_count": 427,
   "metadata": {
    "execution": {
     "iopub.execute_input": "2021-10-19T23:13:15.909028Z",
     "iopub.status.busy": "2021-10-19T23:13:15.908287Z",
     "iopub.status.idle": "2021-10-19T23:13:16.149441Z",
     "shell.execute_reply": "2021-10-19T23:13:16.148587Z",
     "shell.execute_reply.started": "2021-10-19T23:13:15.908987Z"
    }
   },
   "outputs": [],
   "source": [
    "df2.classification.value_counts()\n",
    "\n",
    "sns.countplot(x=df2[\"classification\"], data=df2)\n",
    "for index,value in enumerate(df2.classification.value_counts()):\n",
    "     plt.text(index, value, f\"{value}\", ha=\"center\", va=\"bottom\", fontsize = 13)"
   ]
  },
  {
   "cell_type": "code",
   "execution_count": 428,
   "metadata": {
    "execution": {
     "iopub.execute_input": "2021-10-19T23:13:17.456718Z",
     "iopub.status.busy": "2021-10-19T23:13:17.456419Z",
     "iopub.status.idle": "2021-10-19T23:13:17.468678Z",
     "shell.execute_reply": "2021-10-19T23:13:17.467989Z",
     "shell.execute_reply.started": "2021-10-19T23:13:17.456683Z"
    }
   },
   "outputs": [],
   "source": [
    "df2[[\"classification\", \"military_power\"]].value_counts()"
   ]
  },
  {
   "cell_type": "code",
   "execution_count": 429,
   "metadata": {
    "execution": {
     "iopub.execute_input": "2021-10-19T23:13:19.158633Z",
     "iopub.status.busy": "2021-10-19T23:13:19.158227Z",
     "iopub.status.idle": "2021-10-19T23:13:19.171590Z",
     "shell.execute_reply": "2021-10-19T23:13:19.170710Z",
     "shell.execute_reply.started": "2021-10-19T23:13:19.158601Z"
    }
   },
   "outputs": [],
   "source": [
    "df2[[\"country\", \"classification\", \"military_power\"]]"
   ]
  },
  {
   "cell_type": "code",
   "execution_count": 430,
   "metadata": {
    "execution": {
     "iopub.execute_input": "2021-10-19T23:13:23.456333Z",
     "iopub.status.busy": "2021-10-19T23:13:23.456034Z",
     "iopub.status.idle": "2021-10-19T23:13:23.472018Z",
     "shell.execute_reply": "2021-10-19T23:13:23.471006Z",
     "shell.execute_reply.started": "2021-10-19T23:13:23.456302Z"
    }
   },
   "outputs": [],
   "source": [
    "df2[df2[\"classification\"]!=df2[\"military_power\"]][[\"country\", \"classification\", \"military_power\"]]"
   ]
  },
  {
   "cell_type": "code",
   "execution_count": null,
   "metadata": {},
   "outputs": [],
   "source": []
  }
 ],
 "metadata": {
  "kernelspec": {
   "display_name": "Python 3 (ipykernel)",
   "language": "python",
   "name": "python3"
  },
  "language_info": {
   "codemirror_mode": {
    "name": "ipython",
    "version": 3
   },
   "file_extension": ".py",
   "mimetype": "text/x-python",
   "name": "python",
   "nbconvert_exporter": "python",
   "pygments_lexer": "ipython3",
   "version": "3.9.7"
  }
 },
 "nbformat": 4,
 "nbformat_minor": 4
}
